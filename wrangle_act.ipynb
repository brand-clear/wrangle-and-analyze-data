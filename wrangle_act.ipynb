{
 "cells": [
  {
   "cell_type": "markdown",
   "metadata": {},
   "source": [
    "# Gathering Data\n",
    "> Data source 1: A provided CSV file containing an enhanced version of the WeRateDogs twitter archive."
   ]
  },
  {
   "cell_type": "code",
   "execution_count": 98,
   "metadata": {},
   "outputs": [],
   "source": [
    "# Import the provided twitter archive CSV\n",
    "import pandas as pd\n",
    "\n",
    "archive = pd.read_csv('twitter-archive-enhanced.csv')"
   ]
  },
  {
   "cell_type": "markdown",
   "metadata": {},
   "source": [
    "> Data source 2: A hosted file containing dog breed predictions which correspond to the enhanced twitter archive data."
   ]
  },
  {
   "cell_type": "code",
   "execution_count": 99,
   "metadata": {},
   "outputs": [],
   "source": [
    "# Download dog breed predictions from web, save content to CSV, and import\n",
    "import requests\n",
    "\n",
    "url = 'https://d17h27t6h515a5.cloudfront.net/topher/2017/August/599fd2ad_image-predictions/image-predictions.tsv'\n",
    "response = requests.get(url)\n",
    "with open('image-predictions.csv', 'wb') as file:\n",
    "    file.write(response.content)\n",
    "\n",
    "image_predictions = pd.read_csv('image-predictions.csv', sep='\\\\t', engine='python')"
   ]
  },
  {
   "cell_type": "markdown",
   "metadata": {},
   "source": [
    "> Data source 3: Additional tweet data retrieved with the Twitter API which corresponds to the enhanced twitter archive."
   ]
  },
  {
   "cell_type": "code",
   "execution_count": 100,
   "metadata": {},
   "outputs": [
    {
     "name": "stderr",
     "output_type": "stream",
     "text": [
      "Rate limit reached. Sleeping for: 621\n",
      "Rate limit reached. Sleeping for: 622\n"
     ]
    }
   ],
   "source": [
    "# Retrieve additional tweet data using the Twitter API\n",
    "import json\n",
    "import tweepy\n",
    "from config import CONSUMER_KEY, CONSUMER_SECRET, ACCESS_TOKEN, ACCESS_SECRET\n",
    "\n",
    "auth = tweepy.OAuthHandler(CONSUMER_KEY, CONSUMER_SECRET)\n",
    "auth.set_access_token(ACCESS_TOKEN, ACCESS_SECRET)\n",
    "api = tweepy.API(auth, wait_on_rate_limit=True, wait_on_rate_limit_notify=True)\n",
    "\n",
    "tweet_data = []  # Store tweet JSON objects\n",
    "\n",
    "# Use archived tweet IDs to pull tweets\n",
    "for _id in archive['tweet_id'].values:\n",
    "    try:\n",
    "        tweet = api.get_status(_id, tweet_mode='extended')\n",
    "    except tweepy.TweepError as error:\n",
    "        # Ignore errors raised due to deleted tweets\n",
    "        pass\n",
    "    else:\n",
    "        tweet_data.append(tweet._json)"
   ]
  },
  {
   "cell_type": "code",
   "execution_count": 101,
   "metadata": {},
   "outputs": [],
   "source": [
    "# Write tweet JSON object to TXT file\n",
    "json_txt = 'tweet_json.txt'\n",
    "with open(json_txt, 'w') as f:\n",
    "    for twt in tweet_data:\n",
    "        json.dump(twt, f)\n",
    "        f.write('\\n')"
   ]
  },
  {
   "cell_type": "code",
   "execution_count": 102,
   "metadata": {},
   "outputs": [
    {
     "data": {
      "text/plain": [
       "dict_keys(['created_at', 'id', 'id_str', 'full_text', 'truncated', 'display_text_range', 'entities', 'extended_entities', 'source', 'in_reply_to_status_id', 'in_reply_to_status_id_str', 'in_reply_to_user_id', 'in_reply_to_user_id_str', 'in_reply_to_screen_name', 'user', 'geo', 'coordinates', 'place', 'contributors', 'is_quote_status', 'retweet_count', 'favorite_count', 'favorited', 'retweeted', 'possibly_sensitive', 'possibly_sensitive_appealable', 'lang'])"
      ]
     },
     "execution_count": 102,
     "metadata": {},
     "output_type": "execute_result"
    }
   ],
   "source": [
    "# View tweet available areas of interest\n",
    "with open(json_txt, 'r') as f:\n",
    "    keys = json.loads(f.readlines()[0]).keys()\n",
    "    \n",
    "keys"
   ]
  },
  {
   "cell_type": "code",
   "execution_count": 142,
   "metadata": {},
   "outputs": [],
   "source": [
    "# Build new DataFrame from TXT file\n",
    "refined_json = []\n",
    "\n",
    "with open(json_txt, 'r') as f:\n",
    "    for line in f.readlines():\n",
    "        obj = json.loads(line)\n",
    "        areas_of_interest = {\n",
    "            'tweet_id': obj['id'],\n",
    "            'retweet_count': obj['retweet_count'],\n",
    "            'favorite_count': obj['favorite_count'],\n",
    "        }\n",
    "        refined_json.append(areas_of_interest)\n",
    "        \n",
    "tweets_from_api = pd.DataFrame(refined_json, columns=['tweet_id', 'retweet_count', 'favorite_count'])\n",
    "tweets_from_api.to_csv('tweets_from_api.csv', index=False)"
   ]
  },
  {
   "cell_type": "markdown",
   "metadata": {},
   "source": [
    "# Assessing Data\n",
    "## Data source 1: Enhanced twitter archive CSV file"
   ]
  },
  {
   "cell_type": "code",
   "execution_count": 143,
   "metadata": {},
   "outputs": [
    {
     "data": {
      "text/html": [
       "<div>\n",
       "<style scoped>\n",
       "    .dataframe tbody tr th:only-of-type {\n",
       "        vertical-align: middle;\n",
       "    }\n",
       "\n",
       "    .dataframe tbody tr th {\n",
       "        vertical-align: top;\n",
       "    }\n",
       "\n",
       "    .dataframe thead th {\n",
       "        text-align: right;\n",
       "    }\n",
       "</style>\n",
       "<table border=\"1\" class=\"dataframe\">\n",
       "  <thead>\n",
       "    <tr style=\"text-align: right;\">\n",
       "      <th></th>\n",
       "      <th>tweet_id</th>\n",
       "      <th>in_reply_to_status_id</th>\n",
       "      <th>in_reply_to_user_id</th>\n",
       "      <th>timestamp</th>\n",
       "      <th>source</th>\n",
       "      <th>text</th>\n",
       "      <th>retweeted_status_id</th>\n",
       "      <th>retweeted_status_user_id</th>\n",
       "      <th>retweeted_status_timestamp</th>\n",
       "      <th>expanded_urls</th>\n",
       "      <th>rating_numerator</th>\n",
       "      <th>rating_denominator</th>\n",
       "      <th>name</th>\n",
       "      <th>doggo</th>\n",
       "      <th>floofer</th>\n",
       "      <th>pupper</th>\n",
       "      <th>puppo</th>\n",
       "    </tr>\n",
       "  </thead>\n",
       "  <tbody>\n",
       "    <tr>\n",
       "      <th>0</th>\n",
       "      <td>892420643555336193</td>\n",
       "      <td>NaN</td>\n",
       "      <td>NaN</td>\n",
       "      <td>2017-08-01 16:23:56 +0000</td>\n",
       "      <td>&lt;a href=\"http://twitter.com/download/iphone\" r...</td>\n",
       "      <td>This is Phineas. He's a mystical boy. Only eve...</td>\n",
       "      <td>NaN</td>\n",
       "      <td>NaN</td>\n",
       "      <td>NaN</td>\n",
       "      <td>https://twitter.com/dog_rates/status/892420643...</td>\n",
       "      <td>13</td>\n",
       "      <td>10</td>\n",
       "      <td>Phineas</td>\n",
       "      <td>None</td>\n",
       "      <td>None</td>\n",
       "      <td>None</td>\n",
       "      <td>None</td>\n",
       "    </tr>\n",
       "    <tr>\n",
       "      <th>1</th>\n",
       "      <td>892177421306343426</td>\n",
       "      <td>NaN</td>\n",
       "      <td>NaN</td>\n",
       "      <td>2017-08-01 00:17:27 +0000</td>\n",
       "      <td>&lt;a href=\"http://twitter.com/download/iphone\" r...</td>\n",
       "      <td>This is Tilly. She's just checking pup on you....</td>\n",
       "      <td>NaN</td>\n",
       "      <td>NaN</td>\n",
       "      <td>NaN</td>\n",
       "      <td>https://twitter.com/dog_rates/status/892177421...</td>\n",
       "      <td>13</td>\n",
       "      <td>10</td>\n",
       "      <td>Tilly</td>\n",
       "      <td>None</td>\n",
       "      <td>None</td>\n",
       "      <td>None</td>\n",
       "      <td>None</td>\n",
       "    </tr>\n",
       "    <tr>\n",
       "      <th>2</th>\n",
       "      <td>891815181378084864</td>\n",
       "      <td>NaN</td>\n",
       "      <td>NaN</td>\n",
       "      <td>2017-07-31 00:18:03 +0000</td>\n",
       "      <td>&lt;a href=\"http://twitter.com/download/iphone\" r...</td>\n",
       "      <td>This is Archie. He is a rare Norwegian Pouncin...</td>\n",
       "      <td>NaN</td>\n",
       "      <td>NaN</td>\n",
       "      <td>NaN</td>\n",
       "      <td>https://twitter.com/dog_rates/status/891815181...</td>\n",
       "      <td>12</td>\n",
       "      <td>10</td>\n",
       "      <td>Archie</td>\n",
       "      <td>None</td>\n",
       "      <td>None</td>\n",
       "      <td>None</td>\n",
       "      <td>None</td>\n",
       "    </tr>\n",
       "    <tr>\n",
       "      <th>3</th>\n",
       "      <td>891689557279858688</td>\n",
       "      <td>NaN</td>\n",
       "      <td>NaN</td>\n",
       "      <td>2017-07-30 15:58:51 +0000</td>\n",
       "      <td>&lt;a href=\"http://twitter.com/download/iphone\" r...</td>\n",
       "      <td>This is Darla. She commenced a snooze mid meal...</td>\n",
       "      <td>NaN</td>\n",
       "      <td>NaN</td>\n",
       "      <td>NaN</td>\n",
       "      <td>https://twitter.com/dog_rates/status/891689557...</td>\n",
       "      <td>13</td>\n",
       "      <td>10</td>\n",
       "      <td>Darla</td>\n",
       "      <td>None</td>\n",
       "      <td>None</td>\n",
       "      <td>None</td>\n",
       "      <td>None</td>\n",
       "    </tr>\n",
       "    <tr>\n",
       "      <th>4</th>\n",
       "      <td>891327558926688256</td>\n",
       "      <td>NaN</td>\n",
       "      <td>NaN</td>\n",
       "      <td>2017-07-29 16:00:24 +0000</td>\n",
       "      <td>&lt;a href=\"http://twitter.com/download/iphone\" r...</td>\n",
       "      <td>This is Franklin. He would like you to stop ca...</td>\n",
       "      <td>NaN</td>\n",
       "      <td>NaN</td>\n",
       "      <td>NaN</td>\n",
       "      <td>https://twitter.com/dog_rates/status/891327558...</td>\n",
       "      <td>12</td>\n",
       "      <td>10</td>\n",
       "      <td>Franklin</td>\n",
       "      <td>None</td>\n",
       "      <td>None</td>\n",
       "      <td>None</td>\n",
       "      <td>None</td>\n",
       "    </tr>\n",
       "  </tbody>\n",
       "</table>\n",
       "</div>"
      ],
      "text/plain": [
       "             tweet_id  in_reply_to_status_id  in_reply_to_user_id                  timestamp                                             source                                               text  retweeted_status_id  retweeted_status_user_id retweeted_status_timestamp                                      expanded_urls  rating_numerator  rating_denominator      name doggo floofer pupper puppo\n",
       "0  892420643555336193                    NaN                  NaN  2017-08-01 16:23:56 +0000  <a href=\"http://twitter.com/download/iphone\" r...  This is Phineas. He's a mystical boy. Only eve...                  NaN                       NaN                        NaN  https://twitter.com/dog_rates/status/892420643...                13                  10   Phineas  None    None   None  None\n",
       "1  892177421306343426                    NaN                  NaN  2017-08-01 00:17:27 +0000  <a href=\"http://twitter.com/download/iphone\" r...  This is Tilly. She's just checking pup on you....                  NaN                       NaN                        NaN  https://twitter.com/dog_rates/status/892177421...                13                  10     Tilly  None    None   None  None\n",
       "2  891815181378084864                    NaN                  NaN  2017-07-31 00:18:03 +0000  <a href=\"http://twitter.com/download/iphone\" r...  This is Archie. He is a rare Norwegian Pouncin...                  NaN                       NaN                        NaN  https://twitter.com/dog_rates/status/891815181...                12                  10    Archie  None    None   None  None\n",
       "3  891689557279858688                    NaN                  NaN  2017-07-30 15:58:51 +0000  <a href=\"http://twitter.com/download/iphone\" r...  This is Darla. She commenced a snooze mid meal...                  NaN                       NaN                        NaN  https://twitter.com/dog_rates/status/891689557...                13                  10     Darla  None    None   None  None\n",
       "4  891327558926688256                    NaN                  NaN  2017-07-29 16:00:24 +0000  <a href=\"http://twitter.com/download/iphone\" r...  This is Franklin. He would like you to stop ca...                  NaN                       NaN                        NaN  https://twitter.com/dog_rates/status/891327558...                12                  10  Franklin  None    None   None  None"
      ]
     },
     "execution_count": 143,
     "metadata": {},
     "output_type": "execute_result"
    }
   ],
   "source": [
    "archive.head()  # View data slice"
   ]
  },
  {
   "cell_type": "markdown",
   "metadata": {},
   "source": [
    "> None of the first 5 dogs were given a dog stage (`doggo`, `floofer`, `pupper`, `puppo`) classification"
   ]
  },
  {
   "cell_type": "code",
   "execution_count": 144,
   "metadata": {},
   "outputs": [
    {
     "data": {
      "text/plain": [
       "0       https://twitter.com/dog_rates/status/892420643...\n",
       "1       https://twitter.com/dog_rates/status/892177421...\n",
       "2       https://twitter.com/dog_rates/status/891815181...\n",
       "3       https://twitter.com/dog_rates/status/891689557...\n",
       "4       https://twitter.com/dog_rates/status/891327558...\n",
       "                              ...                        \n",
       "2351    https://twitter.com/dog_rates/status/666049248...\n",
       "2352    https://twitter.com/dog_rates/status/666044226...\n",
       "2353    https://twitter.com/dog_rates/status/666033412...\n",
       "2354    https://twitter.com/dog_rates/status/666029285...\n",
       "2355    https://twitter.com/dog_rates/status/666020888...\n",
       "Name: expanded_urls, Length: 2356, dtype: object"
      ]
     },
     "execution_count": 144,
     "metadata": {},
     "output_type": "execute_result"
    }
   ],
   "source": [
    "archive['expanded_urls']"
   ]
  },
  {
   "cell_type": "code",
   "execution_count": 145,
   "metadata": {},
   "outputs": [
    {
     "data": {
      "text/plain": [
       "<a href=\"http://twitter.com/download/iphone\" rel=\"nofollow\">Twitter for iPhone</a>     2221\n",
       "<a href=\"http://vine.co\" rel=\"nofollow\">Vine - Make a Scene</a>                          91\n",
       "<a href=\"http://twitter.com\" rel=\"nofollow\">Twitter Web Client</a>                       33\n",
       "<a href=\"https://about.twitter.com/products/tweetdeck\" rel=\"nofollow\">TweetDeck</a>      11\n",
       "Name: source, dtype: int64"
      ]
     },
     "execution_count": 145,
     "metadata": {},
     "output_type": "execute_result"
    }
   ],
   "source": [
    "archive['source'].value_counts()"
   ]
  },
  {
   "cell_type": "markdown",
   "metadata": {},
   "source": [
    "> The source values appear overly robust"
   ]
  },
  {
   "cell_type": "code",
   "execution_count": 146,
   "metadata": {},
   "outputs": [
    {
     "name": "stdout",
     "output_type": "stream",
     "text": [
      "<class 'pandas.core.frame.DataFrame'>\n",
      "RangeIndex: 2356 entries, 0 to 2355\n",
      "Data columns (total 17 columns):\n",
      " #   Column                      Non-Null Count  Dtype  \n",
      "---  ------                      --------------  -----  \n",
      " 0   tweet_id                    2356 non-null   int64  \n",
      " 1   in_reply_to_status_id       78 non-null     float64\n",
      " 2   in_reply_to_user_id         78 non-null     float64\n",
      " 3   timestamp                   2356 non-null   object \n",
      " 4   source                      2356 non-null   object \n",
      " 5   text                        2356 non-null   object \n",
      " 6   retweeted_status_id         181 non-null    float64\n",
      " 7   retweeted_status_user_id    181 non-null    float64\n",
      " 8   retweeted_status_timestamp  181 non-null    object \n",
      " 9   expanded_urls               2297 non-null   object \n",
      " 10  rating_numerator            2356 non-null   int64  \n",
      " 11  rating_denominator          2356 non-null   int64  \n",
      " 12  name                        2356 non-null   object \n",
      " 13  doggo                       2356 non-null   object \n",
      " 14  floofer                     2356 non-null   object \n",
      " 15  pupper                      2356 non-null   object \n",
      " 16  puppo                       2356 non-null   object \n",
      "dtypes: float64(4), int64(3), object(10)\n",
      "memory usage: 313.0+ KB\n"
     ]
    }
   ],
   "source": [
    "archive.info()"
   ]
  },
  {
   "cell_type": "markdown",
   "metadata": {},
   "source": [
    "> Some tweets are classified as retweets or replies, which are not needed for this analysis. Some of these data types will need to be addressed for quality.\n",
    "> `expanded_urls` contains null values."
   ]
  },
  {
   "cell_type": "code",
   "execution_count": 147,
   "metadata": {},
   "outputs": [
    {
     "data": {
      "text/plain": [
       "2356"
      ]
     },
     "execution_count": 147,
     "metadata": {},
     "output_type": "execute_result"
    }
   ],
   "source": [
    "archive['tweet_id'].nunique()  # Check for duplicate tweets"
   ]
  },
  {
   "cell_type": "code",
   "execution_count": 148,
   "metadata": {},
   "outputs": [
    {
     "data": {
      "text/plain": [
       "count    2356.000000\n",
       "mean       10.455433\n",
       "std         6.745237\n",
       "min         0.000000\n",
       "25%        10.000000\n",
       "50%        10.000000\n",
       "75%        10.000000\n",
       "max       170.000000\n",
       "Name: rating_denominator, dtype: float64"
      ]
     },
     "execution_count": 148,
     "metadata": {},
     "output_type": "execute_result"
    }
   ],
   "source": [
    "archive['rating_denominator'].describe()"
   ]
  },
  {
   "cell_type": "code",
   "execution_count": 149,
   "metadata": {},
   "outputs": [
    {
     "data": {
      "text/plain": [
       "count    2356.000000\n",
       "mean       13.126486\n",
       "std        45.876648\n",
       "min         0.000000\n",
       "25%        10.000000\n",
       "50%        11.000000\n",
       "75%        12.000000\n",
       "max      1776.000000\n",
       "Name: rating_numerator, dtype: float64"
      ]
     },
     "execution_count": 149,
     "metadata": {},
     "output_type": "execute_result"
    }
   ],
   "source": [
    "archive['rating_numerator'].describe()"
   ]
  },
  {
   "cell_type": "markdown",
   "metadata": {},
   "source": [
    "> Rating system does not always match expectation."
   ]
  },
  {
   "cell_type": "code",
   "execution_count": 150,
   "metadata": {},
   "outputs": [
    {
     "data": {
      "text/plain": [
       "count     2356\n",
       "unique     957\n",
       "top       None\n",
       "freq       745\n",
       "Name: name, dtype: object"
      ]
     },
     "execution_count": 150,
     "metadata": {},
     "output_type": "execute_result"
    }
   ],
   "source": [
    "archive['name'].describe()"
   ]
  },
  {
   "cell_type": "code",
   "execution_count": 151,
   "metadata": {},
   "outputs": [
    {
     "data": {
      "text/plain": [
       "2341    None\n",
       "2342    None\n",
       "2343    None\n",
       "2344    None\n",
       "2345     the\n",
       "2346     the\n",
       "2347       a\n",
       "2348       a\n",
       "2349      an\n",
       "2350       a\n",
       "2351    None\n",
       "2352       a\n",
       "2353       a\n",
       "2354       a\n",
       "2355    None\n",
       "Name: name, dtype: object"
      ]
     },
     "execution_count": 151,
     "metadata": {},
     "output_type": "execute_result"
    }
   ],
   "source": [
    "archive['name'].tail(15)"
   ]
  },
  {
   "cell_type": "markdown",
   "metadata": {},
   "source": [
    "> `name` column is of low quality."
   ]
  },
  {
   "cell_type": "markdown",
   "metadata": {},
   "source": [
    "> ### Quality Issues\n",
    "- User/tweet IDs are not numerically meaningful and should be saved as strings.\n",
    "- `timestamp` fields are numerically meaningful and should be of type datetime, not object (string).\n",
    "- 78 tweets are replies, this is not meaningful data.\n",
    "- 181 tweets are retweets, this is not meaningful data.\n",
    "- Not every tweet contains a dog stage classification.\n",
    "- Dog ratings are provided with denominators of 10 and numerators that are greater than 10. Both denominator and numerator fields contain minimum values of 0 and excessive maximum values (170-1776).\n",
    "- `name` contains errors and is often missing (labelled None).\n",
    "- Missing data is sometimes incorrectly labelled as None (a string value).\n",
    "- `source` is overly robust.\n",
    "- Some `expanded_urls` are missing.\n",
    "- `floofer` isn't the correct dog stage name.\n",
    "\n",
    "> ### Tidy Issues\n",
    "- Dog stage (`doggo`, `floofer`, `pupper`, `puppo`) can be represented as a single column.\n",
    "- Since all `rating_denominator`s should equal 10, this field can be eliminated."
   ]
  },
  {
   "cell_type": "markdown",
   "metadata": {},
   "source": [
    "## Data source 2: Image predictions hosted on Udacity server"
   ]
  },
  {
   "cell_type": "code",
   "execution_count": 152,
   "metadata": {},
   "outputs": [
    {
     "data": {
      "text/html": [
       "<div>\n",
       "<style scoped>\n",
       "    .dataframe tbody tr th:only-of-type {\n",
       "        vertical-align: middle;\n",
       "    }\n",
       "\n",
       "    .dataframe tbody tr th {\n",
       "        vertical-align: top;\n",
       "    }\n",
       "\n",
       "    .dataframe thead th {\n",
       "        text-align: right;\n",
       "    }\n",
       "</style>\n",
       "<table border=\"1\" class=\"dataframe\">\n",
       "  <thead>\n",
       "    <tr style=\"text-align: right;\">\n",
       "      <th></th>\n",
       "      <th>tweet_id</th>\n",
       "      <th>jpg_url</th>\n",
       "      <th>img_num</th>\n",
       "      <th>p1</th>\n",
       "      <th>p1_conf</th>\n",
       "      <th>p1_dog</th>\n",
       "      <th>p2</th>\n",
       "      <th>p2_conf</th>\n",
       "      <th>p2_dog</th>\n",
       "      <th>p3</th>\n",
       "      <th>p3_conf</th>\n",
       "      <th>p3_dog</th>\n",
       "    </tr>\n",
       "  </thead>\n",
       "  <tbody>\n",
       "    <tr>\n",
       "      <th>0</th>\n",
       "      <td>666020888022790149</td>\n",
       "      <td>https://pbs.twimg.com/media/CT4udn0WwAA0aMy.jpg</td>\n",
       "      <td>1</td>\n",
       "      <td>Welsh_springer_spaniel</td>\n",
       "      <td>0.465074</td>\n",
       "      <td>True</td>\n",
       "      <td>collie</td>\n",
       "      <td>0.156665</td>\n",
       "      <td>True</td>\n",
       "      <td>Shetland_sheepdog</td>\n",
       "      <td>0.061428</td>\n",
       "      <td>True</td>\n",
       "    </tr>\n",
       "    <tr>\n",
       "      <th>1</th>\n",
       "      <td>666029285002620928</td>\n",
       "      <td>https://pbs.twimg.com/media/CT42GRgUYAA5iDo.jpg</td>\n",
       "      <td>1</td>\n",
       "      <td>redbone</td>\n",
       "      <td>0.506826</td>\n",
       "      <td>True</td>\n",
       "      <td>miniature_pinscher</td>\n",
       "      <td>0.074192</td>\n",
       "      <td>True</td>\n",
       "      <td>Rhodesian_ridgeback</td>\n",
       "      <td>0.072010</td>\n",
       "      <td>True</td>\n",
       "    </tr>\n",
       "    <tr>\n",
       "      <th>2</th>\n",
       "      <td>666033412701032449</td>\n",
       "      <td>https://pbs.twimg.com/media/CT4521TWwAEvMyu.jpg</td>\n",
       "      <td>1</td>\n",
       "      <td>German_shepherd</td>\n",
       "      <td>0.596461</td>\n",
       "      <td>True</td>\n",
       "      <td>malinois</td>\n",
       "      <td>0.138584</td>\n",
       "      <td>True</td>\n",
       "      <td>bloodhound</td>\n",
       "      <td>0.116197</td>\n",
       "      <td>True</td>\n",
       "    </tr>\n",
       "    <tr>\n",
       "      <th>3</th>\n",
       "      <td>666044226329800704</td>\n",
       "      <td>https://pbs.twimg.com/media/CT5Dr8HUEAA-lEu.jpg</td>\n",
       "      <td>1</td>\n",
       "      <td>Rhodesian_ridgeback</td>\n",
       "      <td>0.408143</td>\n",
       "      <td>True</td>\n",
       "      <td>redbone</td>\n",
       "      <td>0.360687</td>\n",
       "      <td>True</td>\n",
       "      <td>miniature_pinscher</td>\n",
       "      <td>0.222752</td>\n",
       "      <td>True</td>\n",
       "    </tr>\n",
       "    <tr>\n",
       "      <th>4</th>\n",
       "      <td>666049248165822465</td>\n",
       "      <td>https://pbs.twimg.com/media/CT5IQmsXIAAKY4A.jpg</td>\n",
       "      <td>1</td>\n",
       "      <td>miniature_pinscher</td>\n",
       "      <td>0.560311</td>\n",
       "      <td>True</td>\n",
       "      <td>Rottweiler</td>\n",
       "      <td>0.243682</td>\n",
       "      <td>True</td>\n",
       "      <td>Doberman</td>\n",
       "      <td>0.154629</td>\n",
       "      <td>True</td>\n",
       "    </tr>\n",
       "  </tbody>\n",
       "</table>\n",
       "</div>"
      ],
      "text/plain": [
       "             tweet_id                                          jpg_url  img_num                      p1   p1_conf  p1_dog                  p2   p2_conf  p2_dog                   p3   p3_conf  p3_dog\n",
       "0  666020888022790149  https://pbs.twimg.com/media/CT4udn0WwAA0aMy.jpg        1  Welsh_springer_spaniel  0.465074    True              collie  0.156665    True    Shetland_sheepdog  0.061428    True\n",
       "1  666029285002620928  https://pbs.twimg.com/media/CT42GRgUYAA5iDo.jpg        1                 redbone  0.506826    True  miniature_pinscher  0.074192    True  Rhodesian_ridgeback  0.072010    True\n",
       "2  666033412701032449  https://pbs.twimg.com/media/CT4521TWwAEvMyu.jpg        1         German_shepherd  0.596461    True            malinois  0.138584    True           bloodhound  0.116197    True\n",
       "3  666044226329800704  https://pbs.twimg.com/media/CT5Dr8HUEAA-lEu.jpg        1     Rhodesian_ridgeback  0.408143    True             redbone  0.360687    True   miniature_pinscher  0.222752    True\n",
       "4  666049248165822465  https://pbs.twimg.com/media/CT5IQmsXIAAKY4A.jpg        1      miniature_pinscher  0.560311    True          Rottweiler  0.243682    True             Doberman  0.154629    True"
      ]
     },
     "execution_count": 152,
     "metadata": {},
     "output_type": "execute_result"
    }
   ],
   "source": [
    "image_predictions.head()  # View data slice"
   ]
  },
  {
   "cell_type": "code",
   "execution_count": 153,
   "metadata": {},
   "outputs": [
    {
     "data": {
      "text/plain": [
       "2075"
      ]
     },
     "execution_count": 153,
     "metadata": {},
     "output_type": "execute_result"
    }
   ],
   "source": [
    "len(image_predictions.index)"
   ]
  },
  {
   "cell_type": "code",
   "execution_count": 154,
   "metadata": {},
   "outputs": [
    {
     "name": "stdout",
     "output_type": "stream",
     "text": [
      "<class 'pandas.core.frame.DataFrame'>\n",
      "RangeIndex: 2075 entries, 0 to 2074\n",
      "Data columns (total 12 columns):\n",
      " #   Column    Non-Null Count  Dtype  \n",
      "---  ------    --------------  -----  \n",
      " 0   tweet_id  2075 non-null   int64  \n",
      " 1   jpg_url   2075 non-null   object \n",
      " 2   img_num   2075 non-null   int64  \n",
      " 3   p1        2075 non-null   object \n",
      " 4   p1_conf   2075 non-null   float64\n",
      " 5   p1_dog    2075 non-null   bool   \n",
      " 6   p2        2075 non-null   object \n",
      " 7   p2_conf   2075 non-null   float64\n",
      " 8   p2_dog    2075 non-null   bool   \n",
      " 9   p3        2075 non-null   object \n",
      " 10  p3_conf   2075 non-null   float64\n",
      " 11  p3_dog    2075 non-null   bool   \n",
      "dtypes: bool(3), float64(3), int64(2), object(4)\n",
      "memory usage: 152.1+ KB\n"
     ]
    }
   ],
   "source": [
    "image_predictions.info()"
   ]
  },
  {
   "cell_type": "code",
   "execution_count": 155,
   "metadata": {},
   "outputs": [
    {
     "data": {
      "text/html": [
       "<div>\n",
       "<style scoped>\n",
       "    .dataframe tbody tr th:only-of-type {\n",
       "        vertical-align: middle;\n",
       "    }\n",
       "\n",
       "    .dataframe tbody tr th {\n",
       "        vertical-align: top;\n",
       "    }\n",
       "\n",
       "    .dataframe thead th {\n",
       "        text-align: right;\n",
       "    }\n",
       "</style>\n",
       "<table border=\"1\" class=\"dataframe\">\n",
       "  <thead>\n",
       "    <tr style=\"text-align: right;\">\n",
       "      <th></th>\n",
       "      <th>tweet_id</th>\n",
       "      <th>img_num</th>\n",
       "      <th>p1_conf</th>\n",
       "      <th>p2_conf</th>\n",
       "      <th>p3_conf</th>\n",
       "    </tr>\n",
       "  </thead>\n",
       "  <tbody>\n",
       "    <tr>\n",
       "      <th>count</th>\n",
       "      <td>2.075000e+03</td>\n",
       "      <td>2075.000000</td>\n",
       "      <td>2075.000000</td>\n",
       "      <td>2.075000e+03</td>\n",
       "      <td>2.075000e+03</td>\n",
       "    </tr>\n",
       "    <tr>\n",
       "      <th>mean</th>\n",
       "      <td>7.384514e+17</td>\n",
       "      <td>1.203855</td>\n",
       "      <td>0.594548</td>\n",
       "      <td>1.345886e-01</td>\n",
       "      <td>6.032417e-02</td>\n",
       "    </tr>\n",
       "    <tr>\n",
       "      <th>std</th>\n",
       "      <td>6.785203e+16</td>\n",
       "      <td>0.561875</td>\n",
       "      <td>0.271174</td>\n",
       "      <td>1.006657e-01</td>\n",
       "      <td>5.090593e-02</td>\n",
       "    </tr>\n",
       "    <tr>\n",
       "      <th>min</th>\n",
       "      <td>6.660209e+17</td>\n",
       "      <td>1.000000</td>\n",
       "      <td>0.044333</td>\n",
       "      <td>1.011300e-08</td>\n",
       "      <td>1.740170e-10</td>\n",
       "    </tr>\n",
       "    <tr>\n",
       "      <th>25%</th>\n",
       "      <td>6.764835e+17</td>\n",
       "      <td>1.000000</td>\n",
       "      <td>0.364412</td>\n",
       "      <td>5.388625e-02</td>\n",
       "      <td>1.622240e-02</td>\n",
       "    </tr>\n",
       "    <tr>\n",
       "      <th>50%</th>\n",
       "      <td>7.119988e+17</td>\n",
       "      <td>1.000000</td>\n",
       "      <td>0.588230</td>\n",
       "      <td>1.181810e-01</td>\n",
       "      <td>4.944380e-02</td>\n",
       "    </tr>\n",
       "    <tr>\n",
       "      <th>75%</th>\n",
       "      <td>7.932034e+17</td>\n",
       "      <td>1.000000</td>\n",
       "      <td>0.843855</td>\n",
       "      <td>1.955655e-01</td>\n",
       "      <td>9.180755e-02</td>\n",
       "    </tr>\n",
       "    <tr>\n",
       "      <th>max</th>\n",
       "      <td>8.924206e+17</td>\n",
       "      <td>4.000000</td>\n",
       "      <td>1.000000</td>\n",
       "      <td>4.880140e-01</td>\n",
       "      <td>2.734190e-01</td>\n",
       "    </tr>\n",
       "  </tbody>\n",
       "</table>\n",
       "</div>"
      ],
      "text/plain": [
       "           tweet_id      img_num      p1_conf       p2_conf       p3_conf\n",
       "count  2.075000e+03  2075.000000  2075.000000  2.075000e+03  2.075000e+03\n",
       "mean   7.384514e+17     1.203855     0.594548  1.345886e-01  6.032417e-02\n",
       "std    6.785203e+16     0.561875     0.271174  1.006657e-01  5.090593e-02\n",
       "min    6.660209e+17     1.000000     0.044333  1.011300e-08  1.740170e-10\n",
       "25%    6.764835e+17     1.000000     0.364412  5.388625e-02  1.622240e-02\n",
       "50%    7.119988e+17     1.000000     0.588230  1.181810e-01  4.944380e-02\n",
       "75%    7.932034e+17     1.000000     0.843855  1.955655e-01  9.180755e-02\n",
       "max    8.924206e+17     4.000000     1.000000  4.880140e-01  2.734190e-01"
      ]
     },
     "execution_count": 155,
     "metadata": {},
     "output_type": "execute_result"
    }
   ],
   "source": [
    "image_predictions.describe()"
   ]
  },
  {
   "cell_type": "code",
   "execution_count": 156,
   "metadata": {},
   "outputs": [
    {
     "data": {
      "text/html": [
       "<div>\n",
       "<style scoped>\n",
       "    .dataframe tbody tr th:only-of-type {\n",
       "        vertical-align: middle;\n",
       "    }\n",
       "\n",
       "    .dataframe tbody tr th {\n",
       "        vertical-align: top;\n",
       "    }\n",
       "\n",
       "    .dataframe thead th {\n",
       "        text-align: right;\n",
       "    }\n",
       "</style>\n",
       "<table border=\"1\" class=\"dataframe\">\n",
       "  <thead>\n",
       "    <tr style=\"text-align: right;\">\n",
       "      <th></th>\n",
       "      <th>tweet_id</th>\n",
       "      <th>jpg_url</th>\n",
       "      <th>img_num</th>\n",
       "      <th>p1</th>\n",
       "      <th>p1_conf</th>\n",
       "      <th>p1_dog</th>\n",
       "      <th>p2</th>\n",
       "      <th>p2_conf</th>\n",
       "      <th>p2_dog</th>\n",
       "      <th>p3</th>\n",
       "      <th>p3_conf</th>\n",
       "      <th>p3_dog</th>\n",
       "    </tr>\n",
       "  </thead>\n",
       "  <tbody>\n",
       "    <tr>\n",
       "      <th>2070</th>\n",
       "      <td>891327558926688256</td>\n",
       "      <td>https://pbs.twimg.com/media/DF6hr6BUMAAzZgT.jpg</td>\n",
       "      <td>2</td>\n",
       "      <td>basset</td>\n",
       "      <td>0.555712</td>\n",
       "      <td>True</td>\n",
       "      <td>English_springer</td>\n",
       "      <td>0.225770</td>\n",
       "      <td>True</td>\n",
       "      <td>German_short-haired_pointer</td>\n",
       "      <td>0.175219</td>\n",
       "      <td>True</td>\n",
       "    </tr>\n",
       "    <tr>\n",
       "      <th>2071</th>\n",
       "      <td>891689557279858688</td>\n",
       "      <td>https://pbs.twimg.com/media/DF_q7IAWsAEuuN8.jpg</td>\n",
       "      <td>1</td>\n",
       "      <td>paper_towel</td>\n",
       "      <td>0.170278</td>\n",
       "      <td>False</td>\n",
       "      <td>Labrador_retriever</td>\n",
       "      <td>0.168086</td>\n",
       "      <td>True</td>\n",
       "      <td>spatula</td>\n",
       "      <td>0.040836</td>\n",
       "      <td>False</td>\n",
       "    </tr>\n",
       "    <tr>\n",
       "      <th>2072</th>\n",
       "      <td>891815181378084864</td>\n",
       "      <td>https://pbs.twimg.com/media/DGBdLU1WsAANxJ9.jpg</td>\n",
       "      <td>1</td>\n",
       "      <td>Chihuahua</td>\n",
       "      <td>0.716012</td>\n",
       "      <td>True</td>\n",
       "      <td>malamute</td>\n",
       "      <td>0.078253</td>\n",
       "      <td>True</td>\n",
       "      <td>kelpie</td>\n",
       "      <td>0.031379</td>\n",
       "      <td>True</td>\n",
       "    </tr>\n",
       "    <tr>\n",
       "      <th>2073</th>\n",
       "      <td>892177421306343426</td>\n",
       "      <td>https://pbs.twimg.com/media/DGGmoV4XsAAUL6n.jpg</td>\n",
       "      <td>1</td>\n",
       "      <td>Chihuahua</td>\n",
       "      <td>0.323581</td>\n",
       "      <td>True</td>\n",
       "      <td>Pekinese</td>\n",
       "      <td>0.090647</td>\n",
       "      <td>True</td>\n",
       "      <td>papillon</td>\n",
       "      <td>0.068957</td>\n",
       "      <td>True</td>\n",
       "    </tr>\n",
       "    <tr>\n",
       "      <th>2074</th>\n",
       "      <td>892420643555336193</td>\n",
       "      <td>https://pbs.twimg.com/media/DGKD1-bXoAAIAUK.jpg</td>\n",
       "      <td>1</td>\n",
       "      <td>orange</td>\n",
       "      <td>0.097049</td>\n",
       "      <td>False</td>\n",
       "      <td>bagel</td>\n",
       "      <td>0.085851</td>\n",
       "      <td>False</td>\n",
       "      <td>banana</td>\n",
       "      <td>0.076110</td>\n",
       "      <td>False</td>\n",
       "    </tr>\n",
       "  </tbody>\n",
       "</table>\n",
       "</div>"
      ],
      "text/plain": [
       "                tweet_id                                          jpg_url  img_num           p1   p1_conf  p1_dog                  p2   p2_conf  p2_dog                           p3   p3_conf  p3_dog\n",
       "2070  891327558926688256  https://pbs.twimg.com/media/DF6hr6BUMAAzZgT.jpg        2       basset  0.555712    True    English_springer  0.225770    True  German_short-haired_pointer  0.175219    True\n",
       "2071  891689557279858688  https://pbs.twimg.com/media/DF_q7IAWsAEuuN8.jpg        1  paper_towel  0.170278   False  Labrador_retriever  0.168086    True                      spatula  0.040836   False\n",
       "2072  891815181378084864  https://pbs.twimg.com/media/DGBdLU1WsAANxJ9.jpg        1    Chihuahua  0.716012    True            malamute  0.078253    True                       kelpie  0.031379    True\n",
       "2073  892177421306343426  https://pbs.twimg.com/media/DGGmoV4XsAAUL6n.jpg        1    Chihuahua  0.323581    True            Pekinese  0.090647    True                     papillon  0.068957    True\n",
       "2074  892420643555336193  https://pbs.twimg.com/media/DGKD1-bXoAAIAUK.jpg        1       orange  0.097049   False               bagel  0.085851   False                       banana  0.076110   False"
      ]
     },
     "execution_count": 156,
     "metadata": {},
     "output_type": "execute_result"
    }
   ],
   "source": [
    "image_predictions.tail()  # View data slice"
   ]
  },
  {
   "cell_type": "code",
   "execution_count": 157,
   "metadata": {},
   "outputs": [
    {
     "data": {
      "text/plain": [
       "1    1780\n",
       "2     198\n",
       "3      66\n",
       "4      31\n",
       "Name: img_num, dtype: int64"
      ]
     },
     "execution_count": 157,
     "metadata": {},
     "output_type": "execute_result"
    }
   ],
   "source": [
    "image_predictions['img_num'].value_counts()"
   ]
  },
  {
   "cell_type": "code",
   "execution_count": 158,
   "metadata": {},
   "outputs": [
    {
     "data": {
      "text/plain": [
       "2075"
      ]
     },
     "execution_count": 158,
     "metadata": {},
     "output_type": "execute_result"
    }
   ],
   "source": [
    "image_predictions['tweet_id'].nunique()"
   ]
  },
  {
   "cell_type": "markdown",
   "metadata": {},
   "source": [
    "> ### Quality Issues\n",
    "- `tweet_id`s are not numerically meaningful and should be saved as strings.\n",
    "- The size of the image prediction dataset does not equal the size of the enhanced twitter archive dataset.\n",
    "- The boolean columns should be represented in binary."
   ]
  },
  {
   "cell_type": "markdown",
   "metadata": {},
   "source": [
    "## Data source 3: Additional tweet data gathered using Twitter API"
   ]
  },
  {
   "cell_type": "code",
   "execution_count": 159,
   "metadata": {},
   "outputs": [
    {
     "data": {
      "text/html": [
       "<div>\n",
       "<style scoped>\n",
       "    .dataframe tbody tr th:only-of-type {\n",
       "        vertical-align: middle;\n",
       "    }\n",
       "\n",
       "    .dataframe tbody tr th {\n",
       "        vertical-align: top;\n",
       "    }\n",
       "\n",
       "    .dataframe thead th {\n",
       "        text-align: right;\n",
       "    }\n",
       "</style>\n",
       "<table border=\"1\" class=\"dataframe\">\n",
       "  <thead>\n",
       "    <tr style=\"text-align: right;\">\n",
       "      <th></th>\n",
       "      <th>tweet_id</th>\n",
       "      <th>retweet_count</th>\n",
       "      <th>favorite_count</th>\n",
       "    </tr>\n",
       "  </thead>\n",
       "  <tbody>\n",
       "    <tr>\n",
       "      <th>0</th>\n",
       "      <td>892420643555336193</td>\n",
       "      <td>7688</td>\n",
       "      <td>36100</td>\n",
       "    </tr>\n",
       "    <tr>\n",
       "      <th>1</th>\n",
       "      <td>892177421306343426</td>\n",
       "      <td>5687</td>\n",
       "      <td>31142</td>\n",
       "    </tr>\n",
       "    <tr>\n",
       "      <th>2</th>\n",
       "      <td>891815181378084864</td>\n",
       "      <td>3770</td>\n",
       "      <td>23449</td>\n",
       "    </tr>\n",
       "    <tr>\n",
       "      <th>3</th>\n",
       "      <td>891689557279858688</td>\n",
       "      <td>7854</td>\n",
       "      <td>39385</td>\n",
       "    </tr>\n",
       "    <tr>\n",
       "      <th>4</th>\n",
       "      <td>891327558926688256</td>\n",
       "      <td>8460</td>\n",
       "      <td>37617</td>\n",
       "    </tr>\n",
       "  </tbody>\n",
       "</table>\n",
       "</div>"
      ],
      "text/plain": [
       "             tweet_id  retweet_count  favorite_count\n",
       "0  892420643555336193           7688           36100\n",
       "1  892177421306343426           5687           31142\n",
       "2  891815181378084864           3770           23449\n",
       "3  891689557279858688           7854           39385\n",
       "4  891327558926688256           8460           37617"
      ]
     },
     "execution_count": 159,
     "metadata": {},
     "output_type": "execute_result"
    }
   ],
   "source": [
    "tweets_from_api = pd.read_csv('tweets_from_api.csv')\n",
    "tweets_from_api.head()"
   ]
  },
  {
   "cell_type": "code",
   "execution_count": 160,
   "metadata": {},
   "outputs": [
    {
     "name": "stdout",
     "output_type": "stream",
     "text": [
      "<class 'pandas.core.frame.DataFrame'>\n",
      "RangeIndex: 2331 entries, 0 to 2330\n",
      "Data columns (total 3 columns):\n",
      " #   Column          Non-Null Count  Dtype\n",
      "---  ------          --------------  -----\n",
      " 0   tweet_id        2331 non-null   int64\n",
      " 1   retweet_count   2331 non-null   int64\n",
      " 2   favorite_count  2331 non-null   int64\n",
      "dtypes: int64(3)\n",
      "memory usage: 54.8 KB\n"
     ]
    }
   ],
   "source": [
    "tweets_from_api.info()"
   ]
  },
  {
   "cell_type": "code",
   "execution_count": 161,
   "metadata": {},
   "outputs": [
    {
     "data": {
      "text/html": [
       "<div>\n",
       "<style scoped>\n",
       "    .dataframe tbody tr th:only-of-type {\n",
       "        vertical-align: middle;\n",
       "    }\n",
       "\n",
       "    .dataframe tbody tr th {\n",
       "        vertical-align: top;\n",
       "    }\n",
       "\n",
       "    .dataframe thead th {\n",
       "        text-align: right;\n",
       "    }\n",
       "</style>\n",
       "<table border=\"1\" class=\"dataframe\">\n",
       "  <thead>\n",
       "    <tr style=\"text-align: right;\">\n",
       "      <th></th>\n",
       "      <th>tweet_id</th>\n",
       "      <th>retweet_count</th>\n",
       "      <th>favorite_count</th>\n",
       "    </tr>\n",
       "  </thead>\n",
       "  <tbody>\n",
       "    <tr>\n",
       "      <th>count</th>\n",
       "      <td>2.331000e+03</td>\n",
       "      <td>2331.000000</td>\n",
       "      <td>2331.000000</td>\n",
       "    </tr>\n",
       "    <tr>\n",
       "      <th>mean</th>\n",
       "      <td>7.419079e+17</td>\n",
       "      <td>2697.937366</td>\n",
       "      <td>7538.689833</td>\n",
       "    </tr>\n",
       "    <tr>\n",
       "      <th>std</th>\n",
       "      <td>6.823170e+16</td>\n",
       "      <td>4560.937140</td>\n",
       "      <td>11702.517105</td>\n",
       "    </tr>\n",
       "    <tr>\n",
       "      <th>min</th>\n",
       "      <td>6.660209e+17</td>\n",
       "      <td>1.000000</td>\n",
       "      <td>0.000000</td>\n",
       "    </tr>\n",
       "    <tr>\n",
       "      <th>25%</th>\n",
       "      <td>6.782670e+17</td>\n",
       "      <td>546.000000</td>\n",
       "      <td>1315.500000</td>\n",
       "    </tr>\n",
       "    <tr>\n",
       "      <th>50%</th>\n",
       "      <td>7.182469e+17</td>\n",
       "      <td>1266.000000</td>\n",
       "      <td>3278.000000</td>\n",
       "    </tr>\n",
       "    <tr>\n",
       "      <th>75%</th>\n",
       "      <td>7.986692e+17</td>\n",
       "      <td>3137.000000</td>\n",
       "      <td>9231.000000</td>\n",
       "    </tr>\n",
       "    <tr>\n",
       "      <th>max</th>\n",
       "      <td>8.924206e+17</td>\n",
       "      <td>77589.000000</td>\n",
       "      <td>155716.000000</td>\n",
       "    </tr>\n",
       "  </tbody>\n",
       "</table>\n",
       "</div>"
      ],
      "text/plain": [
       "           tweet_id  retweet_count  favorite_count\n",
       "count  2.331000e+03    2331.000000     2331.000000\n",
       "mean   7.419079e+17    2697.937366     7538.689833\n",
       "std    6.823170e+16    4560.937140    11702.517105\n",
       "min    6.660209e+17       1.000000        0.000000\n",
       "25%    6.782670e+17     546.000000     1315.500000\n",
       "50%    7.182469e+17    1266.000000     3278.000000\n",
       "75%    7.986692e+17    3137.000000     9231.000000\n",
       "max    8.924206e+17   77589.000000   155716.000000"
      ]
     },
     "execution_count": 161,
     "metadata": {},
     "output_type": "execute_result"
    }
   ],
   "source": [
    "tweets_from_api.describe()"
   ]
  },
  {
   "cell_type": "code",
   "execution_count": 162,
   "metadata": {},
   "outputs": [
    {
     "data": {
      "text/plain": [
       "tweet_id          2331\n",
       "retweet_count     1684\n",
       "favorite_count    1993\n",
       "dtype: int64"
      ]
     },
     "execution_count": 162,
     "metadata": {},
     "output_type": "execute_result"
    }
   ],
   "source": [
    "tweets_from_api.nunique()"
   ]
  },
  {
   "cell_type": "markdown",
   "metadata": {},
   "source": [
    "> ### Quality Issues\n",
    "- `tweet_id`s are not numerically meaningful and should be saved as strings."
   ]
  },
  {
   "cell_type": "markdown",
   "metadata": {},
   "source": [
    "# Cleaning Data"
   ]
  },
  {
   "cell_type": "markdown",
   "metadata": {},
   "source": [
    "> ## Goals:\n",
    "- Set all ID values to type object (string)\n",
    "- Represent boolean values as binary\n",
    "- Set all `timestamp` values to type datetime\n",
    "- Remove tweets that are retweets or replies\n",
    "- Correct rating system, remove denominator column\n",
    "- Merge dog stage columns\n",
    "- Correct dog stage name (`floofer`)\n",
    "- Drop tweets where the dog breed was not classified\n",
    "- Set missing values to type NaN\n",
    "- Drop `name` and `expanded_urls` columns since this data is inconsistent and not helpful in analysis\n",
    "- Merge all (3) datasets to a single master dataset\n",
    "- Simplify `source` column"
   ]
  },
  {
   "cell_type": "markdown",
   "metadata": {},
   "source": [
    "> ### Step 1: Build a single unified DataFrame that contains all the gathered tweet data. Only data for `tweet_id`s that are found in all 3 data sources are included."
   ]
  },
  {
   "cell_type": "code",
   "execution_count": 220,
   "metadata": {},
   "outputs": [
    {
     "data": {
      "text/html": [
       "<div>\n",
       "<style scoped>\n",
       "    .dataframe tbody tr th:only-of-type {\n",
       "        vertical-align: middle;\n",
       "    }\n",
       "\n",
       "    .dataframe tbody tr th {\n",
       "        vertical-align: top;\n",
       "    }\n",
       "\n",
       "    .dataframe thead th {\n",
       "        text-align: right;\n",
       "    }\n",
       "</style>\n",
       "<table border=\"1\" class=\"dataframe\">\n",
       "  <thead>\n",
       "    <tr style=\"text-align: right;\">\n",
       "      <th></th>\n",
       "      <th>tweet_id</th>\n",
       "      <th>in_reply_to_status_id</th>\n",
       "      <th>in_reply_to_user_id</th>\n",
       "      <th>timestamp</th>\n",
       "      <th>source</th>\n",
       "      <th>text</th>\n",
       "      <th>retweeted_status_id</th>\n",
       "      <th>retweeted_status_user_id</th>\n",
       "      <th>retweeted_status_timestamp</th>\n",
       "      <th>expanded_urls</th>\n",
       "      <th>rating_numerator</th>\n",
       "      <th>rating_denominator</th>\n",
       "      <th>name</th>\n",
       "      <th>doggo</th>\n",
       "      <th>floofer</th>\n",
       "      <th>pupper</th>\n",
       "      <th>puppo</th>\n",
       "      <th>jpg_url</th>\n",
       "      <th>img_num</th>\n",
       "      <th>p1</th>\n",
       "      <th>p1_conf</th>\n",
       "      <th>p1_dog</th>\n",
       "      <th>p2</th>\n",
       "      <th>p2_conf</th>\n",
       "      <th>p2_dog</th>\n",
       "      <th>p3</th>\n",
       "      <th>p3_conf</th>\n",
       "      <th>p3_dog</th>\n",
       "      <th>retweet_count</th>\n",
       "      <th>favorite_count</th>\n",
       "    </tr>\n",
       "  </thead>\n",
       "  <tbody>\n",
       "    <tr>\n",
       "      <th>0</th>\n",
       "      <td>892420643555336193</td>\n",
       "      <td>NaN</td>\n",
       "      <td>NaN</td>\n",
       "      <td>2017-08-01 16:23:56 +0000</td>\n",
       "      <td>&lt;a href=\"http://twitter.com/download/iphone\" r...</td>\n",
       "      <td>This is Phineas. He's a mystical boy. Only eve...</td>\n",
       "      <td>NaN</td>\n",
       "      <td>NaN</td>\n",
       "      <td>NaN</td>\n",
       "      <td>https://twitter.com/dog_rates/status/892420643...</td>\n",
       "      <td>13</td>\n",
       "      <td>10</td>\n",
       "      <td>Phineas</td>\n",
       "      <td>None</td>\n",
       "      <td>None</td>\n",
       "      <td>None</td>\n",
       "      <td>None</td>\n",
       "      <td>https://pbs.twimg.com/media/DGKD1-bXoAAIAUK.jpg</td>\n",
       "      <td>1</td>\n",
       "      <td>orange</td>\n",
       "      <td>0.097049</td>\n",
       "      <td>False</td>\n",
       "      <td>bagel</td>\n",
       "      <td>0.085851</td>\n",
       "      <td>False</td>\n",
       "      <td>banana</td>\n",
       "      <td>0.076110</td>\n",
       "      <td>False</td>\n",
       "      <td>7688</td>\n",
       "      <td>36100</td>\n",
       "    </tr>\n",
       "    <tr>\n",
       "      <th>1</th>\n",
       "      <td>892177421306343426</td>\n",
       "      <td>NaN</td>\n",
       "      <td>NaN</td>\n",
       "      <td>2017-08-01 00:17:27 +0000</td>\n",
       "      <td>&lt;a href=\"http://twitter.com/download/iphone\" r...</td>\n",
       "      <td>This is Tilly. She's just checking pup on you....</td>\n",
       "      <td>NaN</td>\n",
       "      <td>NaN</td>\n",
       "      <td>NaN</td>\n",
       "      <td>https://twitter.com/dog_rates/status/892177421...</td>\n",
       "      <td>13</td>\n",
       "      <td>10</td>\n",
       "      <td>Tilly</td>\n",
       "      <td>None</td>\n",
       "      <td>None</td>\n",
       "      <td>None</td>\n",
       "      <td>None</td>\n",
       "      <td>https://pbs.twimg.com/media/DGGmoV4XsAAUL6n.jpg</td>\n",
       "      <td>1</td>\n",
       "      <td>Chihuahua</td>\n",
       "      <td>0.323581</td>\n",
       "      <td>True</td>\n",
       "      <td>Pekinese</td>\n",
       "      <td>0.090647</td>\n",
       "      <td>True</td>\n",
       "      <td>papillon</td>\n",
       "      <td>0.068957</td>\n",
       "      <td>True</td>\n",
       "      <td>5687</td>\n",
       "      <td>31142</td>\n",
       "    </tr>\n",
       "    <tr>\n",
       "      <th>2</th>\n",
       "      <td>891815181378084864</td>\n",
       "      <td>NaN</td>\n",
       "      <td>NaN</td>\n",
       "      <td>2017-07-31 00:18:03 +0000</td>\n",
       "      <td>&lt;a href=\"http://twitter.com/download/iphone\" r...</td>\n",
       "      <td>This is Archie. He is a rare Norwegian Pouncin...</td>\n",
       "      <td>NaN</td>\n",
       "      <td>NaN</td>\n",
       "      <td>NaN</td>\n",
       "      <td>https://twitter.com/dog_rates/status/891815181...</td>\n",
       "      <td>12</td>\n",
       "      <td>10</td>\n",
       "      <td>Archie</td>\n",
       "      <td>None</td>\n",
       "      <td>None</td>\n",
       "      <td>None</td>\n",
       "      <td>None</td>\n",
       "      <td>https://pbs.twimg.com/media/DGBdLU1WsAANxJ9.jpg</td>\n",
       "      <td>1</td>\n",
       "      <td>Chihuahua</td>\n",
       "      <td>0.716012</td>\n",
       "      <td>True</td>\n",
       "      <td>malamute</td>\n",
       "      <td>0.078253</td>\n",
       "      <td>True</td>\n",
       "      <td>kelpie</td>\n",
       "      <td>0.031379</td>\n",
       "      <td>True</td>\n",
       "      <td>3770</td>\n",
       "      <td>23449</td>\n",
       "    </tr>\n",
       "    <tr>\n",
       "      <th>3</th>\n",
       "      <td>891689557279858688</td>\n",
       "      <td>NaN</td>\n",
       "      <td>NaN</td>\n",
       "      <td>2017-07-30 15:58:51 +0000</td>\n",
       "      <td>&lt;a href=\"http://twitter.com/download/iphone\" r...</td>\n",
       "      <td>This is Darla. She commenced a snooze mid meal...</td>\n",
       "      <td>NaN</td>\n",
       "      <td>NaN</td>\n",
       "      <td>NaN</td>\n",
       "      <td>https://twitter.com/dog_rates/status/891689557...</td>\n",
       "      <td>13</td>\n",
       "      <td>10</td>\n",
       "      <td>Darla</td>\n",
       "      <td>None</td>\n",
       "      <td>None</td>\n",
       "      <td>None</td>\n",
       "      <td>None</td>\n",
       "      <td>https://pbs.twimg.com/media/DF_q7IAWsAEuuN8.jpg</td>\n",
       "      <td>1</td>\n",
       "      <td>paper_towel</td>\n",
       "      <td>0.170278</td>\n",
       "      <td>False</td>\n",
       "      <td>Labrador_retriever</td>\n",
       "      <td>0.168086</td>\n",
       "      <td>True</td>\n",
       "      <td>spatula</td>\n",
       "      <td>0.040836</td>\n",
       "      <td>False</td>\n",
       "      <td>7854</td>\n",
       "      <td>39385</td>\n",
       "    </tr>\n",
       "    <tr>\n",
       "      <th>4</th>\n",
       "      <td>891327558926688256</td>\n",
       "      <td>NaN</td>\n",
       "      <td>NaN</td>\n",
       "      <td>2017-07-29 16:00:24 +0000</td>\n",
       "      <td>&lt;a href=\"http://twitter.com/download/iphone\" r...</td>\n",
       "      <td>This is Franklin. He would like you to stop ca...</td>\n",
       "      <td>NaN</td>\n",
       "      <td>NaN</td>\n",
       "      <td>NaN</td>\n",
       "      <td>https://twitter.com/dog_rates/status/891327558...</td>\n",
       "      <td>12</td>\n",
       "      <td>10</td>\n",
       "      <td>Franklin</td>\n",
       "      <td>None</td>\n",
       "      <td>None</td>\n",
       "      <td>None</td>\n",
       "      <td>None</td>\n",
       "      <td>https://pbs.twimg.com/media/DF6hr6BUMAAzZgT.jpg</td>\n",
       "      <td>2</td>\n",
       "      <td>basset</td>\n",
       "      <td>0.555712</td>\n",
       "      <td>True</td>\n",
       "      <td>English_springer</td>\n",
       "      <td>0.225770</td>\n",
       "      <td>True</td>\n",
       "      <td>German_short-haired_pointer</td>\n",
       "      <td>0.175219</td>\n",
       "      <td>True</td>\n",
       "      <td>8460</td>\n",
       "      <td>37617</td>\n",
       "    </tr>\n",
       "  </tbody>\n",
       "</table>\n",
       "</div>"
      ],
      "text/plain": [
       "             tweet_id  in_reply_to_status_id  in_reply_to_user_id                  timestamp                                             source                                               text  retweeted_status_id  retweeted_status_user_id retweeted_status_timestamp                                      expanded_urls  rating_numerator  rating_denominator      name doggo floofer pupper puppo                                          jpg_url  img_num           p1   p1_conf  p1_dog                  p2   p2_conf  p2_dog                           p3   p3_conf  p3_dog  retweet_count  favorite_count\n",
       "0  892420643555336193                    NaN                  NaN  2017-08-01 16:23:56 +0000  <a href=\"http://twitter.com/download/iphone\" r...  This is Phineas. He's a mystical boy. Only eve...                  NaN                       NaN                        NaN  https://twitter.com/dog_rates/status/892420643...                13                  10   Phineas  None    None   None  None  https://pbs.twimg.com/media/DGKD1-bXoAAIAUK.jpg        1       orange  0.097049   False               bagel  0.085851   False                       banana  0.076110   False           7688           36100\n",
       "1  892177421306343426                    NaN                  NaN  2017-08-01 00:17:27 +0000  <a href=\"http://twitter.com/download/iphone\" r...  This is Tilly. She's just checking pup on you....                  NaN                       NaN                        NaN  https://twitter.com/dog_rates/status/892177421...                13                  10     Tilly  None    None   None  None  https://pbs.twimg.com/media/DGGmoV4XsAAUL6n.jpg        1    Chihuahua  0.323581    True            Pekinese  0.090647    True                     papillon  0.068957    True           5687           31142\n",
       "2  891815181378084864                    NaN                  NaN  2017-07-31 00:18:03 +0000  <a href=\"http://twitter.com/download/iphone\" r...  This is Archie. He is a rare Norwegian Pouncin...                  NaN                       NaN                        NaN  https://twitter.com/dog_rates/status/891815181...                12                  10    Archie  None    None   None  None  https://pbs.twimg.com/media/DGBdLU1WsAANxJ9.jpg        1    Chihuahua  0.716012    True            malamute  0.078253    True                       kelpie  0.031379    True           3770           23449\n",
       "3  891689557279858688                    NaN                  NaN  2017-07-30 15:58:51 +0000  <a href=\"http://twitter.com/download/iphone\" r...  This is Darla. She commenced a snooze mid meal...                  NaN                       NaN                        NaN  https://twitter.com/dog_rates/status/891689557...                13                  10     Darla  None    None   None  None  https://pbs.twimg.com/media/DF_q7IAWsAEuuN8.jpg        1  paper_towel  0.170278   False  Labrador_retriever  0.168086    True                      spatula  0.040836   False           7854           39385\n",
       "4  891327558926688256                    NaN                  NaN  2017-07-29 16:00:24 +0000  <a href=\"http://twitter.com/download/iphone\" r...  This is Franklin. He would like you to stop ca...                  NaN                       NaN                        NaN  https://twitter.com/dog_rates/status/891327558...                12                  10  Franklin  None    None   None  None  https://pbs.twimg.com/media/DF6hr6BUMAAzZgT.jpg        2       basset  0.555712    True    English_springer  0.225770    True  German_short-haired_pointer  0.175219    True           8460           37617"
      ]
     },
     "execution_count": 220,
     "metadata": {},
     "output_type": "execute_result"
    }
   ],
   "source": [
    "archive_img_pred_join = pd.merge(archive, image_predictions, on='tweet_id', how='inner')\n",
    "master_df = pd.merge(archive_img_pred_join, tweets_from_api, on='tweet_id', how='inner')\n",
    "master_df.head()"
   ]
  },
  {
   "cell_type": "code",
   "execution_count": 221,
   "metadata": {},
   "outputs": [
    {
     "data": {
      "text/plain": [
       "(2059, 2059)"
      ]
     },
     "execution_count": 221,
     "metadata": {},
     "output_type": "execute_result"
    }
   ],
   "source": [
    "master_df['tweet_id'].nunique(), len(master_df.index)"
   ]
  },
  {
   "cell_type": "markdown",
   "metadata": {},
   "source": [
    "> ### Step 2: Remove data that is not of interest in this analysis, such as: tweets classified as retweets or replies, dog names, expanded URLs, and the jpg_url."
   ]
  },
  {
   "cell_type": "code",
   "execution_count": 222,
   "metadata": {},
   "outputs": [
    {
     "name": "stdout",
     "output_type": "stream",
     "text": [
      "<class 'pandas.core.frame.DataFrame'>\n",
      "Int64Index: 2059 entries, 0 to 2058\n",
      "Data columns (total 30 columns):\n",
      " #   Column                      Non-Null Count  Dtype  \n",
      "---  ------                      --------------  -----  \n",
      " 0   tweet_id                    2059 non-null   int64  \n",
      " 1   in_reply_to_status_id       23 non-null     float64\n",
      " 2   in_reply_to_user_id         23 non-null     float64\n",
      " 3   timestamp                   2059 non-null   object \n",
      " 4   source                      2059 non-null   object \n",
      " 5   text                        2059 non-null   object \n",
      " 6   retweeted_status_id         72 non-null     float64\n",
      " 7   retweeted_status_user_id    72 non-null     float64\n",
      " 8   retweeted_status_timestamp  72 non-null     object \n",
      " 9   expanded_urls               2059 non-null   object \n",
      " 10  rating_numerator            2059 non-null   int64  \n",
      " 11  rating_denominator          2059 non-null   int64  \n",
      " 12  name                        2059 non-null   object \n",
      " 13  doggo                       2059 non-null   object \n",
      " 14  floofer                     2059 non-null   object \n",
      " 15  pupper                      2059 non-null   object \n",
      " 16  puppo                       2059 non-null   object \n",
      " 17  jpg_url                     2059 non-null   object \n",
      " 18  img_num                     2059 non-null   int64  \n",
      " 19  p1                          2059 non-null   object \n",
      " 20  p1_conf                     2059 non-null   float64\n",
      " 21  p1_dog                      2059 non-null   bool   \n",
      " 22  p2                          2059 non-null   object \n",
      " 23  p2_conf                     2059 non-null   float64\n",
      " 24  p2_dog                      2059 non-null   bool   \n",
      " 25  p3                          2059 non-null   object \n",
      " 26  p3_conf                     2059 non-null   float64\n",
      " 27  p3_dog                      2059 non-null   bool   \n",
      " 28  retweet_count               2059 non-null   int64  \n",
      " 29  favorite_count              2059 non-null   int64  \n",
      "dtypes: bool(3), float64(7), int64(6), object(14)\n",
      "memory usage: 456.4+ KB\n"
     ]
    }
   ],
   "source": [
    "master_df.info()"
   ]
  },
  {
   "cell_type": "code",
   "execution_count": 223,
   "metadata": {},
   "outputs": [
    {
     "name": "stdout",
     "output_type": "stream",
     "text": [
      "<class 'pandas.core.frame.DataFrame'>\n",
      "Int64Index: 1964 entries, 0 to 2058\n",
      "Data columns (total 30 columns):\n",
      " #   Column                      Non-Null Count  Dtype  \n",
      "---  ------                      --------------  -----  \n",
      " 0   tweet_id                    1964 non-null   int64  \n",
      " 1   in_reply_to_status_id       0 non-null      float64\n",
      " 2   in_reply_to_user_id         0 non-null      float64\n",
      " 3   timestamp                   1964 non-null   object \n",
      " 4   source                      1964 non-null   object \n",
      " 5   text                        1964 non-null   object \n",
      " 6   retweeted_status_id         0 non-null      float64\n",
      " 7   retweeted_status_user_id    0 non-null      float64\n",
      " 8   retweeted_status_timestamp  0 non-null      object \n",
      " 9   expanded_urls               1964 non-null   object \n",
      " 10  rating_numerator            1964 non-null   int64  \n",
      " 11  rating_denominator          1964 non-null   int64  \n",
      " 12  name                        1964 non-null   object \n",
      " 13  doggo                       1964 non-null   object \n",
      " 14  floofer                     1964 non-null   object \n",
      " 15  pupper                      1964 non-null   object \n",
      " 16  puppo                       1964 non-null   object \n",
      " 17  jpg_url                     1964 non-null   object \n",
      " 18  img_num                     1964 non-null   int64  \n",
      " 19  p1                          1964 non-null   object \n",
      " 20  p1_conf                     1964 non-null   float64\n",
      " 21  p1_dog                      1964 non-null   bool   \n",
      " 22  p2                          1964 non-null   object \n",
      " 23  p2_conf                     1964 non-null   float64\n",
      " 24  p2_dog                      1964 non-null   bool   \n",
      " 25  p3                          1964 non-null   object \n",
      " 26  p3_conf                     1964 non-null   float64\n",
      " 27  p3_dog                      1964 non-null   bool   \n",
      " 28  retweet_count               1964 non-null   int64  \n",
      " 29  favorite_count              1964 non-null   int64  \n",
      "dtypes: bool(3), float64(7), int64(6), object(14)\n",
      "memory usage: 435.4+ KB\n"
     ]
    }
   ],
   "source": [
    "# Remove rows pertaining to retweets or replies\n",
    "\n",
    "master_df = master_df[master_df['in_reply_to_status_id'].isnull()]\n",
    "master_df = master_df[master_df['retweeted_status_id'].isnull()]\n",
    "master_df.info()"
   ]
  },
  {
   "cell_type": "code",
   "execution_count": 224,
   "metadata": {},
   "outputs": [],
   "source": [
    "# Remove unnecessary columns\n",
    "\n",
    "master_df.drop(\n",
    "    columns=[\n",
    "        'in_reply_to_status_id', \n",
    "        'in_reply_to_user_id', \n",
    "        'retweeted_status_id', \n",
    "        'retweeted_status_user_id', \n",
    "        'retweeted_status_timestamp',\n",
    "        'name',\n",
    "        'expanded_urls',\n",
    "        'jpg_url'\n",
    "    ], \n",
    "    inplace=True\n",
    ")"
   ]
  },
  {
   "cell_type": "code",
   "execution_count": 225,
   "metadata": {},
   "outputs": [
    {
     "name": "stdout",
     "output_type": "stream",
     "text": [
      "<class 'pandas.core.frame.DataFrame'>\n",
      "Int64Index: 1964 entries, 0 to 2058\n",
      "Data columns (total 22 columns):\n",
      " #   Column              Non-Null Count  Dtype  \n",
      "---  ------              --------------  -----  \n",
      " 0   tweet_id            1964 non-null   int64  \n",
      " 1   timestamp           1964 non-null   object \n",
      " 2   source              1964 non-null   object \n",
      " 3   text                1964 non-null   object \n",
      " 4   rating_numerator    1964 non-null   int64  \n",
      " 5   rating_denominator  1964 non-null   int64  \n",
      " 6   doggo               1964 non-null   object \n",
      " 7   floofer             1964 non-null   object \n",
      " 8   pupper              1964 non-null   object \n",
      " 9   puppo               1964 non-null   object \n",
      " 10  img_num             1964 non-null   int64  \n",
      " 11  p1                  1964 non-null   object \n",
      " 12  p1_conf             1964 non-null   float64\n",
      " 13  p1_dog              1964 non-null   bool   \n",
      " 14  p2                  1964 non-null   object \n",
      " 15  p2_conf             1964 non-null   float64\n",
      " 16  p2_dog              1964 non-null   bool   \n",
      " 17  p3                  1964 non-null   object \n",
      " 18  p3_conf             1964 non-null   float64\n",
      " 19  p3_dog              1964 non-null   bool   \n",
      " 20  retweet_count       1964 non-null   int64  \n",
      " 21  favorite_count      1964 non-null   int64  \n",
      "dtypes: bool(3), float64(3), int64(6), object(10)\n",
      "memory usage: 312.6+ KB\n"
     ]
    }
   ],
   "source": [
    "master_df.info()"
   ]
  },
  {
   "cell_type": "markdown",
   "metadata": {},
   "source": [
    "> ### Step 3: Address issues with dog stage classification and NaN values."
   ]
  },
  {
   "cell_type": "code",
   "execution_count": 227,
   "metadata": {},
   "outputs": [
    {
     "data": {
      "text/plain": [
       "None     1892\n",
       "doggo      72\n",
       "Name: doggo, dtype: int64"
      ]
     },
     "execution_count": 227,
     "metadata": {},
     "output_type": "execute_result"
    }
   ],
   "source": [
    "master_df['doggo'].value_counts()"
   ]
  },
  {
   "cell_type": "code",
   "execution_count": 228,
   "metadata": {},
   "outputs": [
    {
     "data": {
      "text/plain": [
       "None       1956\n",
       "floofer       8\n",
       "Name: floofer, dtype: int64"
      ]
     },
     "execution_count": 228,
     "metadata": {},
     "output_type": "execute_result"
    }
   ],
   "source": [
    "master_df['floofer'].value_counts()"
   ]
  },
  {
   "cell_type": "code",
   "execution_count": 229,
   "metadata": {},
   "outputs": [
    {
     "data": {
      "text/plain": [
       "None      1755\n",
       "pupper     209\n",
       "Name: pupper, dtype: int64"
      ]
     },
     "execution_count": 229,
     "metadata": {},
     "output_type": "execute_result"
    }
   ],
   "source": [
    "master_df['pupper'].value_counts()"
   ]
  },
  {
   "cell_type": "code",
   "execution_count": 230,
   "metadata": {},
   "outputs": [
    {
     "data": {
      "text/plain": [
       "None     1941\n",
       "puppo      23\n",
       "Name: puppo, dtype: int64"
      ]
     },
     "execution_count": 230,
     "metadata": {},
     "output_type": "execute_result"
    }
   ],
   "source": [
    "master_df['puppo'].value_counts()"
   ]
  },
  {
   "cell_type": "code",
   "execution_count": 231,
   "metadata": {},
   "outputs": [],
   "source": [
    "# Check for conflicting labelling of dog stages\n",
    "\n",
    "import numpy as np\n",
    "\n",
    "stages = ['doggo', 'floof', 'pupper', 'puppo']\n",
    "stage_errors = {}\n",
    "\n",
    "def dog_stage_classifier(row):\n",
    "    _class = []\n",
    "    if row['doggo'] == 'doggo':\n",
    "        _class.append('doggo')\n",
    "    if row['floofer'] == 'floofer':\n",
    "        _class.append('floofer')\n",
    "    if row['pupper'] == 'pupper':\n",
    "        _class.append('pupper')\n",
    "    if row['puppo'] == 'puppo':\n",
    "        _class.append('puppo')\n",
    "    if len(_class) == 0:\n",
    "        _class.append(np.nan)\n",
    "    if len(_class) == 1:\n",
    "        return _class[0]\n",
    "    else:\n",
    "        stage_errors[row['tweet_id']] = {}\n",
    "        stage_errors[row['tweet_id']]['stages'] = _class\n",
    "        stage_errors[row['tweet_id']]['text'] = row['text']\n",
    "        return np.nan  # Temporarily label as null"
   ]
  },
  {
   "cell_type": "code",
   "execution_count": 232,
   "metadata": {},
   "outputs": [],
   "source": [
    "master_df['dog_stage'] = master_df.apply(lambda row: dog_stage_classifier(row), axis=1)"
   ]
  },
  {
   "cell_type": "code",
   "execution_count": 233,
   "metadata": {},
   "outputs": [
    {
     "name": "stdout",
     "output_type": "stream",
     "text": [
      "855851453814013952 {'stages': ['doggo', 'puppo'], 'text': \"Here's a puppo participating in the #ScienceMarch. Cleverly disguising her own doggo agenda. 13/10 would keep the planet habitable for https://t.co/cMhq16isel\"} \n",
      "\n",
      "854010172552949760 {'stages': ['doggo', 'floofer'], 'text': \"At first I thought this was a shy doggo, but it's actually a Rare Canadian Floofer Owl. Amateurs would confuse the two. 11/10 only send dogs https://t.co/TXdT3tmuYk\"} \n",
      "\n",
      "817777686764523521 {'stages': ['doggo', 'pupper'], 'text': 'This is Dido. She\\'s playing the lead role in \"Pupper Stops to Catch Snow Before Resuming Shadow Box with Dried Apple.\" 13/10 (IG: didodoggo) https://t.co/m7isZrOBX7'} \n",
      "\n",
      "808106460588765185 {'stages': ['doggo', 'pupper'], 'text': 'Here we have Burke (pupper) and Dexter (doggo). Pupper wants to be exactly like doggo. Both 12/10 would pet at same time https://t.co/ANBpEYHaho'} \n",
      "\n",
      "801115127852503040 {'stages': ['doggo', 'pupper'], 'text': \"This is Bones. He's being haunted by another doggo of roughly the same size. 12/10 deep breaths pupper everything's fine https://t.co/55Dqe0SJNj\"} \n",
      "\n",
      "785639753186217984 {'stages': ['doggo', 'pupper'], 'text': \"This is Pinot. He's a sophisticated doggo. You can tell by the hat. Also pointier than your average pupper. Still 10/10 would pet cautiously https://t.co/f2wmLZTPHd\"} \n",
      "\n",
      "759793422261743616 {'stages': ['doggo', 'pupper'], 'text': 'Meet Maggie &amp; Lila. Maggie is the doggo, Lila is the pupper. They are sisters. Both 12/10 would pet at the same time https://t.co/MYwR4DQKll'} \n",
      "\n",
      "751583847268179968 {'stages': ['doggo', 'pupper'], 'text': \"Please stop sending it pictures that don't even have a doggo or pupper in them. Churlish af. 5/10 neat couch tho https://t.co/u2c9c7qSg8\"} \n",
      "\n",
      "741067306818797568 {'stages': ['doggo', 'pupper'], 'text': 'This is just downright precious af. 12/10 for both pupper and doggo https://t.co/o5J479bZUC'} \n",
      "\n",
      "733109485275860992 {'stages': ['doggo', 'pupper'], 'text': 'Like father (doggo), like son (pupper). Both 12/10 https://t.co/pG2inLaOda'} \n",
      "\n"
     ]
    }
   ],
   "source": [
    "# View data where a dog stage label was duplicated\n",
    "\n",
    "for item in stage_errors.keys():\n",
    "    print(item, stage_errors[item], '\\n')"
   ]
  },
  {
   "cell_type": "code",
   "execution_count": 250,
   "metadata": {},
   "outputs": [
    {
     "name": "stdout",
     "output_type": "stream",
     "text": [
      "before drop 1964\n",
      "after drop 1958\n"
     ]
    }
   ],
   "source": [
    "# These tweet_ids correspond to multiple dogs\n",
    "multiple_dogs_id = [808106460588765185, 759793422261743616, 741067306818797568, 733109485275860992]\n",
    "\n",
    "# These tweet_ids correspond to non-dogs\n",
    "non_dog = [854010172552949760, 751583847268179968]\n",
    "\n",
    "# These are the corrected dog stages for the remaining tweet_ids\n",
    "dog_stage_corrections = {\n",
    "    855851453814013952: 'puppo',\n",
    "    817777686764523521: 'pupper',\n",
    "    801115127852503040: 'doggo',\n",
    "    785639753186217984: 'doggo'\n",
    "}\n",
    "\n",
    "\n",
    "# Extend one problematic list with the other so all tweet ids can be dropped in a single operation\n",
    "non_dog.extend(multiple_dogs_id)\n",
    "\n",
    "print('before drop', len(master_df.index))\n",
    "\n",
    "# Remove tweet ids with tainted data\n",
    "master_df = master_df[~master_df['tweet_id'].isin(non_dog)]\n",
    "\n",
    "print('after drop', len(master_df.index))"
   ]
  },
  {
   "cell_type": "code",
   "execution_count": 260,
   "metadata": {},
   "outputs": [
    {
     "name": "stderr",
     "output_type": "stream",
     "text": [
      "C:\\Users\\brand\\anaconda3\\lib\\site-packages\\pandas\\core\\frame.py:3997: SettingWithCopyWarning: \n",
      "A value is trying to be set on a copy of a slice from a DataFrame\n",
      "\n",
      "See the caveats in the documentation: https://pandas.pydata.org/pandas-docs/stable/user_guide/indexing.html#returning-a-view-versus-a-copy\n",
      "  errors=errors,\n",
      "C:\\Users\\brand\\anaconda3\\lib\\site-packages\\pandas\\core\\indexing.py:965: SettingWithCopyWarning: \n",
      "A value is trying to be set on a copy of a slice from a DataFrame.\n",
      "Try using .loc[row_indexer,col_indexer] = value instead\n",
      "\n",
      "See the caveats in the documentation: https://pandas.pydata.org/pandas-docs/stable/user_guide/indexing.html#returning-a-view-versus-a-copy\n",
      "  self.obj[item] = s\n"
     ]
    }
   ],
   "source": [
    "# Drop redundant columns and correct dog_stage name ('floof')\n",
    "\n",
    "master_df.drop(columns=['doggo', 'floofer', 'pupper', 'puppo'], inplace=True)\n",
    "master_df.loc[master_df.dog_stage == 'floofer', 'dog_stage'] = 'floof'"
   ]
  },
  {
   "cell_type": "code",
   "execution_count": 261,
   "metadata": {},
   "outputs": [
    {
     "data": {
      "text/html": [
       "<div>\n",
       "<style scoped>\n",
       "    .dataframe tbody tr th:only-of-type {\n",
       "        vertical-align: middle;\n",
       "    }\n",
       "\n",
       "    .dataframe tbody tr th {\n",
       "        vertical-align: top;\n",
       "    }\n",
       "\n",
       "    .dataframe thead th {\n",
       "        text-align: right;\n",
       "    }\n",
       "</style>\n",
       "<table border=\"1\" class=\"dataframe\">\n",
       "  <thead>\n",
       "    <tr style=\"text-align: right;\">\n",
       "      <th></th>\n",
       "      <th>tweet_id</th>\n",
       "      <th>timestamp</th>\n",
       "      <th>source</th>\n",
       "      <th>text</th>\n",
       "      <th>rating_numerator</th>\n",
       "      <th>rating_denominator</th>\n",
       "      <th>img_num</th>\n",
       "      <th>p1</th>\n",
       "      <th>p1_conf</th>\n",
       "      <th>p1_dog</th>\n",
       "      <th>p2</th>\n",
       "      <th>p2_conf</th>\n",
       "      <th>p2_dog</th>\n",
       "      <th>p3</th>\n",
       "      <th>p3_conf</th>\n",
       "      <th>p3_dog</th>\n",
       "      <th>retweet_count</th>\n",
       "      <th>favorite_count</th>\n",
       "      <th>dog_stage</th>\n",
       "    </tr>\n",
       "  </thead>\n",
       "  <tbody>\n",
       "    <tr>\n",
       "      <th>0</th>\n",
       "      <td>892420643555336193</td>\n",
       "      <td>2017-08-01 16:23:56 +0000</td>\n",
       "      <td>&lt;a href=\"http://twitter.com/download/iphone\" r...</td>\n",
       "      <td>This is Phineas. He's a mystical boy. Only eve...</td>\n",
       "      <td>13</td>\n",
       "      <td>10</td>\n",
       "      <td>1</td>\n",
       "      <td>orange</td>\n",
       "      <td>0.097049</td>\n",
       "      <td>False</td>\n",
       "      <td>bagel</td>\n",
       "      <td>0.085851</td>\n",
       "      <td>False</td>\n",
       "      <td>banana</td>\n",
       "      <td>0.076110</td>\n",
       "      <td>False</td>\n",
       "      <td>7688</td>\n",
       "      <td>36100</td>\n",
       "      <td>NaN</td>\n",
       "    </tr>\n",
       "    <tr>\n",
       "      <th>1</th>\n",
       "      <td>892177421306343426</td>\n",
       "      <td>2017-08-01 00:17:27 +0000</td>\n",
       "      <td>&lt;a href=\"http://twitter.com/download/iphone\" r...</td>\n",
       "      <td>This is Tilly. She's just checking pup on you....</td>\n",
       "      <td>13</td>\n",
       "      <td>10</td>\n",
       "      <td>1</td>\n",
       "      <td>Chihuahua</td>\n",
       "      <td>0.323581</td>\n",
       "      <td>True</td>\n",
       "      <td>Pekinese</td>\n",
       "      <td>0.090647</td>\n",
       "      <td>True</td>\n",
       "      <td>papillon</td>\n",
       "      <td>0.068957</td>\n",
       "      <td>True</td>\n",
       "      <td>5687</td>\n",
       "      <td>31142</td>\n",
       "      <td>NaN</td>\n",
       "    </tr>\n",
       "    <tr>\n",
       "      <th>2</th>\n",
       "      <td>891815181378084864</td>\n",
       "      <td>2017-07-31 00:18:03 +0000</td>\n",
       "      <td>&lt;a href=\"http://twitter.com/download/iphone\" r...</td>\n",
       "      <td>This is Archie. He is a rare Norwegian Pouncin...</td>\n",
       "      <td>12</td>\n",
       "      <td>10</td>\n",
       "      <td>1</td>\n",
       "      <td>Chihuahua</td>\n",
       "      <td>0.716012</td>\n",
       "      <td>True</td>\n",
       "      <td>malamute</td>\n",
       "      <td>0.078253</td>\n",
       "      <td>True</td>\n",
       "      <td>kelpie</td>\n",
       "      <td>0.031379</td>\n",
       "      <td>True</td>\n",
       "      <td>3770</td>\n",
       "      <td>23449</td>\n",
       "      <td>NaN</td>\n",
       "    </tr>\n",
       "    <tr>\n",
       "      <th>3</th>\n",
       "      <td>891689557279858688</td>\n",
       "      <td>2017-07-30 15:58:51 +0000</td>\n",
       "      <td>&lt;a href=\"http://twitter.com/download/iphone\" r...</td>\n",
       "      <td>This is Darla. She commenced a snooze mid meal...</td>\n",
       "      <td>13</td>\n",
       "      <td>10</td>\n",
       "      <td>1</td>\n",
       "      <td>paper_towel</td>\n",
       "      <td>0.170278</td>\n",
       "      <td>False</td>\n",
       "      <td>Labrador_retriever</td>\n",
       "      <td>0.168086</td>\n",
       "      <td>True</td>\n",
       "      <td>spatula</td>\n",
       "      <td>0.040836</td>\n",
       "      <td>False</td>\n",
       "      <td>7854</td>\n",
       "      <td>39385</td>\n",
       "      <td>NaN</td>\n",
       "    </tr>\n",
       "    <tr>\n",
       "      <th>4</th>\n",
       "      <td>891327558926688256</td>\n",
       "      <td>2017-07-29 16:00:24 +0000</td>\n",
       "      <td>&lt;a href=\"http://twitter.com/download/iphone\" r...</td>\n",
       "      <td>This is Franklin. He would like you to stop ca...</td>\n",
       "      <td>12</td>\n",
       "      <td>10</td>\n",
       "      <td>2</td>\n",
       "      <td>basset</td>\n",
       "      <td>0.555712</td>\n",
       "      <td>True</td>\n",
       "      <td>English_springer</td>\n",
       "      <td>0.225770</td>\n",
       "      <td>True</td>\n",
       "      <td>German_short-haired_pointer</td>\n",
       "      <td>0.175219</td>\n",
       "      <td>True</td>\n",
       "      <td>8460</td>\n",
       "      <td>37617</td>\n",
       "      <td>NaN</td>\n",
       "    </tr>\n",
       "  </tbody>\n",
       "</table>\n",
       "</div>"
      ],
      "text/plain": [
       "             tweet_id                  timestamp                                             source                                               text  rating_numerator  rating_denominator  img_num           p1   p1_conf  p1_dog                  p2   p2_conf  p2_dog                           p3   p3_conf  p3_dog  retweet_count  favorite_count dog_stage\n",
       "0  892420643555336193  2017-08-01 16:23:56 +0000  <a href=\"http://twitter.com/download/iphone\" r...  This is Phineas. He's a mystical boy. Only eve...                13                  10        1       orange  0.097049   False               bagel  0.085851   False                       banana  0.076110   False           7688           36100       NaN\n",
       "1  892177421306343426  2017-08-01 00:17:27 +0000  <a href=\"http://twitter.com/download/iphone\" r...  This is Tilly. She's just checking pup on you....                13                  10        1    Chihuahua  0.323581    True            Pekinese  0.090647    True                     papillon  0.068957    True           5687           31142       NaN\n",
       "2  891815181378084864  2017-07-31 00:18:03 +0000  <a href=\"http://twitter.com/download/iphone\" r...  This is Archie. He is a rare Norwegian Pouncin...                12                  10        1    Chihuahua  0.716012    True            malamute  0.078253    True                       kelpie  0.031379    True           3770           23449       NaN\n",
       "3  891689557279858688  2017-07-30 15:58:51 +0000  <a href=\"http://twitter.com/download/iphone\" r...  This is Darla. She commenced a snooze mid meal...                13                  10        1  paper_towel  0.170278   False  Labrador_retriever  0.168086    True                      spatula  0.040836   False           7854           39385       NaN\n",
       "4  891327558926688256  2017-07-29 16:00:24 +0000  <a href=\"http://twitter.com/download/iphone\" r...  This is Franklin. He would like you to stop ca...                12                  10        2       basset  0.555712    True    English_springer  0.225770    True  German_short-haired_pointer  0.175219    True           8460           37617       NaN"
      ]
     },
     "execution_count": 261,
     "metadata": {},
     "output_type": "execute_result"
    }
   ],
   "source": [
    "master_df.head()"
   ]
  },
  {
   "cell_type": "markdown",
   "metadata": {},
   "source": [
    "> ### Step 4: Address data type errors\n",
    "- Set all ID values to type object (string)\n",
    "- Represent boolean values as binary\n",
    "- Set all `timestamp` values to type datetime"
   ]
  },
  {
   "cell_type": "code",
   "execution_count": 263,
   "metadata": {},
   "outputs": [
    {
     "name": "stdout",
     "output_type": "stream",
     "text": [
      "<class 'pandas.core.frame.DataFrame'>\n",
      "Int64Index: 1958 entries, 0 to 2058\n",
      "Data columns (total 19 columns):\n",
      " #   Column              Non-Null Count  Dtype  \n",
      "---  ------              --------------  -----  \n",
      " 0   tweet_id            1958 non-null   int64  \n",
      " 1   timestamp           1958 non-null   object \n",
      " 2   source              1958 non-null   object \n",
      " 3   text                1958 non-null   object \n",
      " 4   rating_numerator    1958 non-null   int64  \n",
      " 5   rating_denominator  1958 non-null   int64  \n",
      " 6   img_num             1958 non-null   int64  \n",
      " 7   p1                  1958 non-null   object \n",
      " 8   p1_conf             1958 non-null   float64\n",
      " 9   p1_dog              1958 non-null   bool   \n",
      " 10  p2                  1958 non-null   object \n",
      " 11  p2_conf             1958 non-null   float64\n",
      " 12  p2_dog              1958 non-null   bool   \n",
      " 13  p3                  1958 non-null   object \n",
      " 14  p3_conf             1958 non-null   float64\n",
      " 15  p3_dog              1958 non-null   bool   \n",
      " 16  retweet_count       1958 non-null   int64  \n",
      " 17  favorite_count      1958 non-null   int64  \n",
      " 18  dog_stage           292 non-null    object \n",
      "dtypes: bool(3), float64(3), int64(6), object(7)\n",
      "memory usage: 265.8+ KB\n"
     ]
    }
   ],
   "source": [
    "master_df.info()"
   ]
  },
  {
   "cell_type": "code",
   "execution_count": 264,
   "metadata": {},
   "outputs": [
    {
     "name": "stderr",
     "output_type": "stream",
     "text": [
      "C:\\Users\\brand\\anaconda3\\lib\\site-packages\\ipykernel_launcher.py:3: SettingWithCopyWarning: \n",
      "A value is trying to be set on a copy of a slice from a DataFrame.\n",
      "Try using .loc[row_indexer,col_indexer] = value instead\n",
      "\n",
      "See the caveats in the documentation: https://pandas.pydata.org/pandas-docs/stable/user_guide/indexing.html#returning-a-view-versus-a-copy\n",
      "  This is separate from the ipykernel package so we can avoid doing imports until\n",
      "C:\\Users\\brand\\anaconda3\\lib\\site-packages\\ipykernel_launcher.py:4: SettingWithCopyWarning: \n",
      "A value is trying to be set on a copy of a slice from a DataFrame.\n",
      "Try using .loc[row_indexer,col_indexer] = value instead\n",
      "\n",
      "See the caveats in the documentation: https://pandas.pydata.org/pandas-docs/stable/user_guide/indexing.html#returning-a-view-versus-a-copy\n",
      "  after removing the cwd from sys.path.\n"
     ]
    }
   ],
   "source": [
    "# Modify data types\n",
    "\n",
    "master_df['tweet_id'] = master_df['tweet_id'].astype(str)\n",
    "master_df['timestamp'] = pd.to_datetime(master_df['timestamp'])"
   ]
  },
  {
   "cell_type": "code",
   "execution_count": 268,
   "metadata": {},
   "outputs": [
    {
     "data": {
      "text/plain": [
       "True     1450\n",
       "False     508\n",
       "Name: p1_dog, dtype: int64"
      ]
     },
     "execution_count": 268,
     "metadata": {},
     "output_type": "execute_result"
    }
   ],
   "source": [
    "master_df.p1_dog.value_counts()"
   ]
  },
  {
   "cell_type": "code",
   "execution_count": 269,
   "metadata": {},
   "outputs": [
    {
     "data": {
      "text/plain": [
       "True     1468\n",
       "False     490\n",
       "Name: p2_dog, dtype: int64"
      ]
     },
     "execution_count": 269,
     "metadata": {},
     "output_type": "execute_result"
    }
   ],
   "source": [
    "master_df.p2_dog.value_counts()"
   ]
  },
  {
   "cell_type": "code",
   "execution_count": 270,
   "metadata": {},
   "outputs": [
    {
     "data": {
      "text/plain": [
       "True     1420\n",
       "False     538\n",
       "Name: p3_dog, dtype: int64"
      ]
     },
     "execution_count": 270,
     "metadata": {},
     "output_type": "execute_result"
    }
   ],
   "source": [
    "master_df.p3_dog.value_counts()"
   ]
  },
  {
   "cell_type": "code",
   "execution_count": 272,
   "metadata": {},
   "outputs": [
    {
     "name": "stderr",
     "output_type": "stream",
     "text": [
      "C:\\Users\\brand\\anaconda3\\lib\\site-packages\\ipykernel_launcher.py:10: SettingWithCopyWarning: \n",
      "A value is trying to be set on a copy of a slice from a DataFrame.\n",
      "Try using .loc[row_indexer,col_indexer] = value instead\n",
      "\n",
      "See the caveats in the documentation: https://pandas.pydata.org/pandas-docs/stable/user_guide/indexing.html#returning-a-view-versus-a-copy\n",
      "  # Remove the CWD from sys.path while we load stuff.\n"
     ]
    }
   ],
   "source": [
    "# Reassign columns values from boolean to binary\n",
    "\n",
    "def assign_binary_classifier(row, col):\n",
    "    if row[col] == True:\n",
    "        return 1\n",
    "    return 0\n",
    "\n",
    "\n",
    "for column in ['p1_dog', 'p2_dog', 'p3_dog']:\n",
    "    master_df[column] = master_df.apply(lambda row: assign_binary_classifier(row, column), axis=1)"
   ]
  },
  {
   "cell_type": "code",
   "execution_count": 274,
   "metadata": {},
   "outputs": [
    {
     "data": {
      "text/plain": [
       "1    1450\n",
       "0     508\n",
       "Name: p1_dog, dtype: int64"
      ]
     },
     "execution_count": 274,
     "metadata": {},
     "output_type": "execute_result"
    }
   ],
   "source": [
    "master_df.p1_dog.value_counts()"
   ]
  },
  {
   "cell_type": "code",
   "execution_count": 275,
   "metadata": {},
   "outputs": [
    {
     "data": {
      "text/plain": [
       "1    1468\n",
       "0     490\n",
       "Name: p2_dog, dtype: int64"
      ]
     },
     "execution_count": 275,
     "metadata": {},
     "output_type": "execute_result"
    }
   ],
   "source": [
    "master_df.p2_dog.value_counts()"
   ]
  },
  {
   "cell_type": "code",
   "execution_count": 276,
   "metadata": {},
   "outputs": [
    {
     "data": {
      "text/plain": [
       "1    1420\n",
       "0     538\n",
       "Name: p3_dog, dtype: int64"
      ]
     },
     "execution_count": 276,
     "metadata": {},
     "output_type": "execute_result"
    }
   ],
   "source": [
    "master_df.p3_dog.value_counts()"
   ]
  },
  {
   "cell_type": "markdown",
   "metadata": {},
   "source": [
    "> ### Step 5: Simplify the `source` column."
   ]
  },
  {
   "cell_type": "code",
   "execution_count": 277,
   "metadata": {},
   "outputs": [
    {
     "data": {
      "text/plain": [
       "<a href=\"http://twitter.com/download/iphone\" rel=\"nofollow\">Twitter for iPhone</a>     1920\n",
       "<a href=\"http://twitter.com\" rel=\"nofollow\">Twitter Web Client</a>                       28\n",
       "<a href=\"https://about.twitter.com/products/tweetdeck\" rel=\"nofollow\">TweetDeck</a>      10\n",
       "Name: source, dtype: int64"
      ]
     },
     "execution_count": 277,
     "metadata": {},
     "output_type": "execute_result"
    }
   ],
   "source": [
    "master_df.source.value_counts()"
   ]
  },
  {
   "cell_type": "code",
   "execution_count": 278,
   "metadata": {},
   "outputs": [
    {
     "name": "stderr",
     "output_type": "stream",
     "text": [
      "C:\\Users\\brand\\anaconda3\\lib\\site-packages\\pandas\\core\\indexing.py:965: SettingWithCopyWarning: \n",
      "A value is trying to be set on a copy of a slice from a DataFrame.\n",
      "Try using .loc[row_indexer,col_indexer] = value instead\n",
      "\n",
      "See the caveats in the documentation: https://pandas.pydata.org/pandas-docs/stable/user_guide/indexing.html#returning-a-view-versus-a-copy\n",
      "  self.obj[item] = s\n"
     ]
    },
    {
     "data": {
      "text/plain": [
       "Twitter for iPhone    1920\n",
       "Twitter Web Client      28\n",
       "TweetDeck               10\n",
       "Name: source, dtype: int64"
      ]
     },
     "execution_count": 278,
     "metadata": {},
     "output_type": "execute_result"
    }
   ],
   "source": [
    "# Remove HTML tags, leave content only\n",
    "\n",
    "master_df.loc[master_df.source == '<a href=\"http://twitter.com/download/iphone\" rel=\"nofollow\">Twitter for iPhone</a>', 'source'] = 'Twitter for iPhone'\n",
    "master_df.loc[master_df.source == '<a href=\"http://twitter.com\" rel=\"nofollow\">Twitter Web Client</a>', 'source'] = 'Twitter Web Client'\n",
    "master_df.loc[master_df.source == '<a href=\"https://about.twitter.com/products/tweetdeck\" rel=\"nofollow\">TweetDeck</a>', 'source'] = 'TweetDeck'\n",
    "master_df.source.value_counts()"
   ]
  },
  {
   "cell_type": "markdown",
   "metadata": {},
   "source": [
    "> ### Step 6: Correct fault rating system, remove denominator column."
   ]
  },
  {
   "cell_type": "code",
   "execution_count": 280,
   "metadata": {},
   "outputs": [
    {
     "data": {
      "text/plain": [
       "12      440\n",
       "10      416\n",
       "11      391\n",
       "13      249\n",
       "9       150\n",
       "8        95\n",
       "7        52\n",
       "14       33\n",
       "5        32\n",
       "6        32\n",
       "3        19\n",
       "4        16\n",
       "2         9\n",
       "1         5\n",
       "1776      1\n",
       "24        1\n",
       "26        1\n",
       "420       1\n",
       "27        1\n",
       "44        1\n",
       "45        1\n",
       "50        1\n",
       "60        1\n",
       "75        1\n",
       "80        1\n",
       "84        1\n",
       "88        1\n",
       "99        1\n",
       "121       1\n",
       "144       1\n",
       "165       1\n",
       "204       1\n",
       "0         1\n",
       "Name: rating_numerator, dtype: int64"
      ]
     },
     "execution_count": 280,
     "metadata": {},
     "output_type": "execute_result"
    }
   ],
   "source": [
    "master_df.rating_numerator.value_counts()"
   ]
  },
  {
   "cell_type": "code",
   "execution_count": 285,
   "metadata": {},
   "outputs": [
    {
     "data": {
      "text/plain": [
       "['The floofs have been released I repeat the floofs have been released. 84/70 https://t.co/NIYC820tmd',\n",
       " 'Meet Sam. She smiles 24/7 &amp; secretly aspires to be a reindeer. \\nKeep Sam smiling by clicking and sharing this link:\\nhttps://t.co/98tB8y7y7t https://t.co/LouL5vdvxx',\n",
       " \"This is Logan, the Chow who lived. He solemnly swears he's up to lots of good. H*ckin magical af 9.75/10 https://t.co/yBO5wuqaPS\",\n",
       " \"This is Sophie. She's a Jubilant Bush Pupper. Super h*ckin rare. Appears at random just to smile at the locals. 11.27/10 would smile back https://t.co/QFaUiIHxHq\",\n",
       " 'Why does this never happen at my front door... 165/150 https://t.co/HmwrdfEfUE',\n",
       " \"This is Atticus. He's quite simply America af. 1776/10 https://t.co/GRXwMxLBkh\",\n",
       " 'Say hello to this unbelievably well behaved squad of doggos. 204/170 would try to pet all at once https://t.co/yGQI3He3xv',\n",
       " 'This is Bluebert. He just saw that both #FinalFur match ups are split 50/50. Amazed af. 11/10 https://t.co/Kky1DPG4iq',\n",
       " \"Happy Saturday here's 9 puppers on a bench. 99/90 good work everybody https://t.co/mpvaVxKmc1\",\n",
       " \"Here's a brigade of puppers. All look very prepared for whatever happens next. 80/80 https://t.co/0eb7R1Om12\",\n",
       " 'From left to right:\\nCletus, Jerome, Alejandro, Burp, &amp; Titson\\nNone know where camera is. 45/50 would hug all at once https://t.co/sedre1ivTK',\n",
       " \"Here is a whole flock of puppers.  60/50 I'll take the lot https://t.co/9dpcw6MdWa\",\n",
       " \"Happy Wednesday here's a bucket of pups. 44/40 would pet all at once https://t.co/HppvrYuamZ\",\n",
       " 'Someone help the girl is being mugged. Several are distracting her while two steal her shoes. Clever puppers 121/110 https://t.co/1zfnTJLt55',\n",
       " 'Here we have uncovered an entire battalion of holiday puppers. Average of 11.26/10 https://t.co/eNm2S6p9BD',\n",
       " \"IT'S PUPPERGEDDON. Total of 144/120 ...I think https://t.co/ZanVtAtvIq\",\n",
       " 'Here we have an entire platoon of puppers. Total score: 88/80 would pet all at once https://t.co/y93p6FLvVw',\n",
       " 'After so many requests... here you go.\\n\\nGood dogg. 420/10 https://t.co/yfAAo1gdeY']"
      ]
     },
     "execution_count": 285,
     "metadata": {},
     "output_type": "execute_result"
    }
   ],
   "source": [
    "rating_test_df = master_df[master_df.rating_numerator > 14]\n",
    "rating_test_df['text'].tolist()"
   ]
  },
  {
   "cell_type": "markdown",
   "metadata": {},
   "source": [
    "> Texts for the dogs that received rating outliers (excessively high) indicate the following:\n",
    "- Some images contain multiple dogs\n",
    "- Some ratings were given for special occasions (1776, 420)\n",
    "- 1 image didn't receive a rating at all\n",
    "- Some ratings contain floating point numerators\n",
    "\n",
    "> Since these cases represent such a small percentage of the sample I will remove them from the dataset."
   ]
  },
  {
   "cell_type": "code",
   "execution_count": 286,
   "metadata": {},
   "outputs": [],
   "source": [
    "master_df = master_df[master_df.rating_numerator <= 14]"
   ]
  },
  {
   "cell_type": "code",
   "execution_count": 287,
   "metadata": {},
   "outputs": [
    {
     "data": {
      "text/plain": [
       "12    440\n",
       "10    416\n",
       "11    391\n",
       "13    249\n",
       "9     150\n",
       "8      95\n",
       "7      52\n",
       "14     33\n",
       "6      32\n",
       "5      32\n",
       "3      19\n",
       "4      16\n",
       "2       9\n",
       "1       5\n",
       "0       1\n",
       "Name: rating_numerator, dtype: int64"
      ]
     },
     "execution_count": 287,
     "metadata": {},
     "output_type": "execute_result"
    }
   ],
   "source": [
    "master_df.rating_numerator.value_counts()"
   ]
  },
  {
   "cell_type": "code",
   "execution_count": 292,
   "metadata": {},
   "outputs": [
    {
     "data": {
      "text/html": [
       "<div>\n",
       "<style scoped>\n",
       "    .dataframe tbody tr th:only-of-type {\n",
       "        vertical-align: middle;\n",
       "    }\n",
       "\n",
       "    .dataframe tbody tr th {\n",
       "        vertical-align: top;\n",
       "    }\n",
       "\n",
       "    .dataframe thead th {\n",
       "        text-align: right;\n",
       "    }\n",
       "</style>\n",
       "<table border=\"1\" class=\"dataframe\">\n",
       "  <thead>\n",
       "    <tr style=\"text-align: right;\">\n",
       "      <th></th>\n",
       "      <th>tweet_id</th>\n",
       "      <th>timestamp</th>\n",
       "      <th>source</th>\n",
       "      <th>text</th>\n",
       "      <th>rating_numerator</th>\n",
       "      <th>rating_denominator</th>\n",
       "      <th>img_num</th>\n",
       "      <th>p1</th>\n",
       "      <th>p1_conf</th>\n",
       "      <th>p1_dog</th>\n",
       "      <th>p2</th>\n",
       "      <th>p2_conf</th>\n",
       "      <th>p2_dog</th>\n",
       "      <th>p3</th>\n",
       "      <th>p3_conf</th>\n",
       "      <th>p3_dog</th>\n",
       "      <th>retweet_count</th>\n",
       "      <th>favorite_count</th>\n",
       "      <th>dog_stage</th>\n",
       "    </tr>\n",
       "  </thead>\n",
       "  <tbody>\n",
       "    <tr>\n",
       "      <th>241</th>\n",
       "      <td>835152434251116546</td>\n",
       "      <td>2017-02-24 15:40:31+00:00</td>\n",
       "      <td>Twitter for iPhone</td>\n",
       "      <td>When you're so blinded by your systematic plag...</td>\n",
       "      <td>0</td>\n",
       "      <td>10</td>\n",
       "      <td>3</td>\n",
       "      <td>swing</td>\n",
       "      <td>0.967066</td>\n",
       "      <td>0</td>\n",
       "      <td>American_Staffordshire_terrier</td>\n",
       "      <td>0.012731</td>\n",
       "      <td>1</td>\n",
       "      <td>Staffordshire_bullterrier</td>\n",
       "      <td>0.007039</td>\n",
       "      <td>1</td>\n",
       "      <td>3019</td>\n",
       "      <td>22405</td>\n",
       "      <td>NaN</td>\n",
       "    </tr>\n",
       "    <tr>\n",
       "      <th>604</th>\n",
       "      <td>777885040357281792</td>\n",
       "      <td>2016-09-19 15:00:20+00:00</td>\n",
       "      <td>Twitter for iPhone</td>\n",
       "      <td>This is Wesley. He's clearly trespassing. Seem...</td>\n",
       "      <td>3</td>\n",
       "      <td>10</td>\n",
       "      <td>1</td>\n",
       "      <td>Afghan_hound</td>\n",
       "      <td>0.123529</td>\n",
       "      <td>1</td>\n",
       "      <td>basset</td>\n",
       "      <td>0.119682</td>\n",
       "      <td>1</td>\n",
       "      <td>Siberian_husky</td>\n",
       "      <td>0.108709</td>\n",
       "      <td>1</td>\n",
       "      <td>1647</td>\n",
       "      <td>6407</td>\n",
       "      <td>NaN</td>\n",
       "    </tr>\n",
       "    <tr>\n",
       "      <th>978</th>\n",
       "      <td>718246886998687744</td>\n",
       "      <td>2016-04-08 01:19:36+00:00</td>\n",
       "      <td>Twitter for iPhone</td>\n",
       "      <td>This is Alexanderson. He's got a weird ass bir...</td>\n",
       "      <td>3</td>\n",
       "      <td>10</td>\n",
       "      <td>1</td>\n",
       "      <td>Chihuahua</td>\n",
       "      <td>0.354488</td>\n",
       "      <td>1</td>\n",
       "      <td>carton</td>\n",
       "      <td>0.159672</td>\n",
       "      <td>0</td>\n",
       "      <td>Siberian_husky</td>\n",
       "      <td>0.057498</td>\n",
       "      <td>1</td>\n",
       "      <td>499</td>\n",
       "      <td>1892</td>\n",
       "      <td>NaN</td>\n",
       "    </tr>\n",
       "    <tr>\n",
       "      <th>1029</th>\n",
       "      <td>711306686208872448</td>\n",
       "      <td>2016-03-19 21:41:44+00:00</td>\n",
       "      <td>Twitter for iPhone</td>\n",
       "      <td>What hooligan sent in pictures w/out a dog in ...</td>\n",
       "      <td>3</td>\n",
       "      <td>10</td>\n",
       "      <td>1</td>\n",
       "      <td>leatherback_turtle</td>\n",
       "      <td>0.280835</td>\n",
       "      <td>0</td>\n",
       "      <td>loggerhead</td>\n",
       "      <td>0.123290</td>\n",
       "      <td>0</td>\n",
       "      <td>Dandie_Dinmont</td>\n",
       "      <td>0.086792</td>\n",
       "      <td>1</td>\n",
       "      <td>731</td>\n",
       "      <td>3272</td>\n",
       "      <td>NaN</td>\n",
       "    </tr>\n",
       "    <tr>\n",
       "      <th>1085</th>\n",
       "      <td>706901761596989440</td>\n",
       "      <td>2016-03-07 17:58:08+00:00</td>\n",
       "      <td>Twitter for iPhone</td>\n",
       "      <td>This is Elliot. He's blocking the roadway. Dow...</td>\n",
       "      <td>3</td>\n",
       "      <td>10</td>\n",
       "      <td>1</td>\n",
       "      <td>wild_boar</td>\n",
       "      <td>0.859499</td>\n",
       "      <td>0</td>\n",
       "      <td>hog</td>\n",
       "      <td>0.128981</td>\n",
       "      <td>0</td>\n",
       "      <td>warthog</td>\n",
       "      <td>0.011318</td>\n",
       "      <td>0</td>\n",
       "      <td>590</td>\n",
       "      <td>2037</td>\n",
       "      <td>NaN</td>\n",
       "    </tr>\n",
       "    <tr>\n",
       "      <th>1170</th>\n",
       "      <td>699088579889332224</td>\n",
       "      <td>2016-02-15 04:31:20+00:00</td>\n",
       "      <td>Twitter for iPhone</td>\n",
       "      <td>This is Charl. He's a bully. Chucks that dumbb...</td>\n",
       "      <td>3</td>\n",
       "      <td>10</td>\n",
       "      <td>1</td>\n",
       "      <td>mousetrap</td>\n",
       "      <td>0.456186</td>\n",
       "      <td>0</td>\n",
       "      <td>banded_gecko</td>\n",
       "      <td>0.258677</td>\n",
       "      <td>0</td>\n",
       "      <td>common_iguana</td>\n",
       "      <td>0.061783</td>\n",
       "      <td>0</td>\n",
       "      <td>630</td>\n",
       "      <td>2229</td>\n",
       "      <td>NaN</td>\n",
       "    </tr>\n",
       "    <tr>\n",
       "      <th>1231</th>\n",
       "      <td>693590843962331137</td>\n",
       "      <td>2016-01-31 00:25:18+00:00</td>\n",
       "      <td>Twitter for iPhone</td>\n",
       "      <td>Meet Phil. He's big af. Currently destroying t...</td>\n",
       "      <td>3</td>\n",
       "      <td>10</td>\n",
       "      <td>1</td>\n",
       "      <td>dining_table</td>\n",
       "      <td>0.383448</td>\n",
       "      <td>0</td>\n",
       "      <td>grey_fox</td>\n",
       "      <td>0.103191</td>\n",
       "      <td>0</td>\n",
       "      <td>Siamese_cat</td>\n",
       "      <td>0.098256</td>\n",
       "      <td>0</td>\n",
       "      <td>1946</td>\n",
       "      <td>5024</td>\n",
       "      <td>pupper</td>\n",
       "    </tr>\n",
       "    <tr>\n",
       "      <th>1337</th>\n",
       "      <td>686003207160610816</td>\n",
       "      <td>2016-01-10 01:54:44+00:00</td>\n",
       "      <td>Twitter for iPhone</td>\n",
       "      <td>This is Hammond. He's a peculiar pup. Loves lo...</td>\n",
       "      <td>3</td>\n",
       "      <td>10</td>\n",
       "      <td>1</td>\n",
       "      <td>damselfly</td>\n",
       "      <td>0.190786</td>\n",
       "      <td>0</td>\n",
       "      <td>common_newt</td>\n",
       "      <td>0.098131</td>\n",
       "      <td>0</td>\n",
       "      <td>whiptail</td>\n",
       "      <td>0.088958</td>\n",
       "      <td>0</td>\n",
       "      <td>621</td>\n",
       "      <td>1818</td>\n",
       "      <td>NaN</td>\n",
       "    </tr>\n",
       "    <tr>\n",
       "      <th>1419</th>\n",
       "      <td>681302363064414209</td>\n",
       "      <td>2015-12-28 02:35:15+00:00</td>\n",
       "      <td>Twitter for iPhone</td>\n",
       "      <td>This is Chuck. He's a neat dog. Very flexible....</td>\n",
       "      <td>3</td>\n",
       "      <td>10</td>\n",
       "      <td>1</td>\n",
       "      <td>frilled_lizard</td>\n",
       "      <td>0.326259</td>\n",
       "      <td>0</td>\n",
       "      <td>tailed_frog</td>\n",
       "      <td>0.104539</td>\n",
       "      <td>0</td>\n",
       "      <td>axolotl</td>\n",
       "      <td>0.072479</td>\n",
       "      <td>0</td>\n",
       "      <td>1802</td>\n",
       "      <td>3906</td>\n",
       "      <td>NaN</td>\n",
       "    </tr>\n",
       "    <tr>\n",
       "      <th>1482</th>\n",
       "      <td>678675843183484930</td>\n",
       "      <td>2015-12-20 20:38:24+00:00</td>\n",
       "      <td>Twitter for iPhone</td>\n",
       "      <td>Exotic pup here. Tail long af. Throat looks sw...</td>\n",
       "      <td>2</td>\n",
       "      <td>10</td>\n",
       "      <td>1</td>\n",
       "      <td>maze</td>\n",
       "      <td>0.339850</td>\n",
       "      <td>0</td>\n",
       "      <td>streetcar</td>\n",
       "      <td>0.099688</td>\n",
       "      <td>0</td>\n",
       "      <td>sundial</td>\n",
       "      <td>0.084808</td>\n",
       "      <td>0</td>\n",
       "      <td>1435</td>\n",
       "      <td>2821</td>\n",
       "      <td>NaN</td>\n",
       "    </tr>\n",
       "    <tr>\n",
       "      <th>1485</th>\n",
       "      <td>678424312106393600</td>\n",
       "      <td>2015-12-20 03:58:55+00:00</td>\n",
       "      <td>Twitter for iPhone</td>\n",
       "      <td>This is Crystal. She's a shitty fireman. No se...</td>\n",
       "      <td>2</td>\n",
       "      <td>10</td>\n",
       "      <td>1</td>\n",
       "      <td>Maltese_dog</td>\n",
       "      <td>0.759945</td>\n",
       "      <td>1</td>\n",
       "      <td>toy_poodle</td>\n",
       "      <td>0.101194</td>\n",
       "      <td>1</td>\n",
       "      <td>Shih-Tzu</td>\n",
       "      <td>0.056037</td>\n",
       "      <td>1</td>\n",
       "      <td>2500</td>\n",
       "      <td>5396</td>\n",
       "      <td>NaN</td>\n",
       "    </tr>\n",
       "    <tr>\n",
       "      <th>1550</th>\n",
       "      <td>676098748976615425</td>\n",
       "      <td>2015-12-13 17:57:57+00:00</td>\n",
       "      <td>Twitter for iPhone</td>\n",
       "      <td>Extremely rare pup here. Very religious. Alway...</td>\n",
       "      <td>3</td>\n",
       "      <td>10</td>\n",
       "      <td>1</td>\n",
       "      <td>walking_stick</td>\n",
       "      <td>0.162179</td>\n",
       "      <td>0</td>\n",
       "      <td>sandal</td>\n",
       "      <td>0.129086</td>\n",
       "      <td>0</td>\n",
       "      <td>purse</td>\n",
       "      <td>0.081412</td>\n",
       "      <td>0</td>\n",
       "      <td>1385</td>\n",
       "      <td>2930</td>\n",
       "      <td>NaN</td>\n",
       "    </tr>\n",
       "    <tr>\n",
       "      <th>1582</th>\n",
       "      <td>675153376133427200</td>\n",
       "      <td>2015-12-11 03:21:23+00:00</td>\n",
       "      <td>Twitter for iPhone</td>\n",
       "      <td>What kind of person sends in a picture without...</td>\n",
       "      <td>1</td>\n",
       "      <td>10</td>\n",
       "      <td>1</td>\n",
       "      <td>paper_towel</td>\n",
       "      <td>0.327957</td>\n",
       "      <td>0</td>\n",
       "      <td>mailbox</td>\n",
       "      <td>0.096027</td>\n",
       "      <td>0</td>\n",
       "      <td>seat_belt</td>\n",
       "      <td>0.034995</td>\n",
       "      <td>0</td>\n",
       "      <td>2497</td>\n",
       "      <td>6062</td>\n",
       "      <td>NaN</td>\n",
       "    </tr>\n",
       "    <tr>\n",
       "      <th>1610</th>\n",
       "      <td>674690135443775488</td>\n",
       "      <td>2015-12-09 20:40:38+00:00</td>\n",
       "      <td>Twitter for iPhone</td>\n",
       "      <td>Meet Patrick. He's an exotic pup. Jumps great ...</td>\n",
       "      <td>3</td>\n",
       "      <td>10</td>\n",
       "      <td>1</td>\n",
       "      <td>tick</td>\n",
       "      <td>0.242538</td>\n",
       "      <td>0</td>\n",
       "      <td>nail</td>\n",
       "      <td>0.212589</td>\n",
       "      <td>0</td>\n",
       "      <td>screw</td>\n",
       "      <td>0.172838</td>\n",
       "      <td>0</td>\n",
       "      <td>456</td>\n",
       "      <td>1111</td>\n",
       "      <td>NaN</td>\n",
       "    </tr>\n",
       "    <tr>\n",
       "      <th>1629</th>\n",
       "      <td>674265582246694913</td>\n",
       "      <td>2015-12-08 16:33:36+00:00</td>\n",
       "      <td>Twitter for iPhone</td>\n",
       "      <td>This is Henry. He's a shit dog. Short pointy e...</td>\n",
       "      <td>2</td>\n",
       "      <td>10</td>\n",
       "      <td>1</td>\n",
       "      <td>slug</td>\n",
       "      <td>0.998075</td>\n",
       "      <td>0</td>\n",
       "      <td>ice_lolly</td>\n",
       "      <td>0.000984</td>\n",
       "      <td>0</td>\n",
       "      <td>leafhopper</td>\n",
       "      <td>0.000097</td>\n",
       "      <td>0</td>\n",
       "      <td>808</td>\n",
       "      <td>1581</td>\n",
       "      <td>NaN</td>\n",
       "    </tr>\n",
       "    <tr>\n",
       "      <th>1637</th>\n",
       "      <td>674045139690631169</td>\n",
       "      <td>2015-12-08 01:57:39+00:00</td>\n",
       "      <td>Twitter for iPhone</td>\n",
       "      <td>Herd of wild dogs here. Not sure what they're ...</td>\n",
       "      <td>3</td>\n",
       "      <td>10</td>\n",
       "      <td>1</td>\n",
       "      <td>robin</td>\n",
       "      <td>0.369661</td>\n",
       "      <td>0</td>\n",
       "      <td>rhinoceros_beetle</td>\n",
       "      <td>0.110607</td>\n",
       "      <td>0</td>\n",
       "      <td>European_fire_salamander</td>\n",
       "      <td>0.043178</td>\n",
       "      <td>0</td>\n",
       "      <td>615</td>\n",
       "      <td>1358</td>\n",
       "      <td>NaN</td>\n",
       "    </tr>\n",
       "    <tr>\n",
       "      <th>1647</th>\n",
       "      <td>673906403526995968</td>\n",
       "      <td>2015-12-07 16:46:21+00:00</td>\n",
       "      <td>Twitter for iPhone</td>\n",
       "      <td>Guys I'm getting real tired of this. We only r...</td>\n",
       "      <td>3</td>\n",
       "      <td>10</td>\n",
       "      <td>1</td>\n",
       "      <td>toilet_seat</td>\n",
       "      <td>0.683319</td>\n",
       "      <td>0</td>\n",
       "      <td>soft-coated_wheaten_terrier</td>\n",
       "      <td>0.048928</td>\n",
       "      <td>1</td>\n",
       "      <td>Siberian_husky</td>\n",
       "      <td>0.030386</td>\n",
       "      <td>1</td>\n",
       "      <td>1562</td>\n",
       "      <td>3061</td>\n",
       "      <td>NaN</td>\n",
       "    </tr>\n",
       "    <tr>\n",
       "      <th>1655</th>\n",
       "      <td>673700254269775872</td>\n",
       "      <td>2015-12-07 03:07:12+00:00</td>\n",
       "      <td>Twitter for iPhone</td>\n",
       "      <td>Large blue dog here. Cool shades. Flipping us ...</td>\n",
       "      <td>3</td>\n",
       "      <td>10</td>\n",
       "      <td>1</td>\n",
       "      <td>water_bottle</td>\n",
       "      <td>0.614536</td>\n",
       "      <td>0</td>\n",
       "      <td>ashcan</td>\n",
       "      <td>0.050911</td>\n",
       "      <td>0</td>\n",
       "      <td>bucket</td>\n",
       "      <td>0.037432</td>\n",
       "      <td>0</td>\n",
       "      <td>544</td>\n",
       "      <td>1378</td>\n",
       "      <td>NaN</td>\n",
       "    </tr>\n",
       "    <tr>\n",
       "      <th>1786</th>\n",
       "      <td>670826280409919488</td>\n",
       "      <td>2015-11-29 04:47:03+00:00</td>\n",
       "      <td>Twitter for iPhone</td>\n",
       "      <td>Scary dog here. Too many legs. Extra tail. Not...</td>\n",
       "      <td>2</td>\n",
       "      <td>10</td>\n",
       "      <td>1</td>\n",
       "      <td>scorpion</td>\n",
       "      <td>0.927956</td>\n",
       "      <td>0</td>\n",
       "      <td>tarantula</td>\n",
       "      <td>0.021631</td>\n",
       "      <td>0</td>\n",
       "      <td>wolf_spider</td>\n",
       "      <td>0.014837</td>\n",
       "      <td>0</td>\n",
       "      <td>3877</td>\n",
       "      <td>5299</td>\n",
       "      <td>NaN</td>\n",
       "    </tr>\n",
       "    <tr>\n",
       "      <th>1798</th>\n",
       "      <td>670783437142401025</td>\n",
       "      <td>2015-11-29 01:56:48+00:00</td>\n",
       "      <td>Twitter for iPhone</td>\n",
       "      <td>Flamboyant pup here. Probably poisonous. Won't...</td>\n",
       "      <td>1</td>\n",
       "      <td>10</td>\n",
       "      <td>1</td>\n",
       "      <td>lacewing</td>\n",
       "      <td>0.381955</td>\n",
       "      <td>0</td>\n",
       "      <td>sulphur_butterfly</td>\n",
       "      <td>0.106810</td>\n",
       "      <td>0</td>\n",
       "      <td>leafhopper</td>\n",
       "      <td>0.068347</td>\n",
       "      <td>0</td>\n",
       "      <td>367</td>\n",
       "      <td>796</td>\n",
       "      <td>NaN</td>\n",
       "    </tr>\n",
       "    <tr>\n",
       "      <th>1843</th>\n",
       "      <td>670055038660800512</td>\n",
       "      <td>2015-11-27 01:42:24+00:00</td>\n",
       "      <td>Twitter for iPhone</td>\n",
       "      <td>This is Tommy. He's a cool dog. Hard not to st...</td>\n",
       "      <td>3</td>\n",
       "      <td>10</td>\n",
       "      <td>1</td>\n",
       "      <td>snail</td>\n",
       "      <td>0.563631</td>\n",
       "      <td>0</td>\n",
       "      <td>slug</td>\n",
       "      <td>0.296649</td>\n",
       "      <td>0</td>\n",
       "      <td>bolete</td>\n",
       "      <td>0.031839</td>\n",
       "      <td>0</td>\n",
       "      <td>313</td>\n",
       "      <td>642</td>\n",
       "      <td>NaN</td>\n",
       "    </tr>\n",
       "    <tr>\n",
       "      <th>1889</th>\n",
       "      <td>668989615043424256</td>\n",
       "      <td>2015-11-24 03:08:48+00:00</td>\n",
       "      <td>Twitter for iPhone</td>\n",
       "      <td>This is Bernie. He's taking his Halloween cost...</td>\n",
       "      <td>3</td>\n",
       "      <td>10</td>\n",
       "      <td>1</td>\n",
       "      <td>pug</td>\n",
       "      <td>0.917326</td>\n",
       "      <td>1</td>\n",
       "      <td>waffle_iron</td>\n",
       "      <td>0.014918</td>\n",
       "      <td>0</td>\n",
       "      <td>Chihuahua</td>\n",
       "      <td>0.013524</td>\n",
       "      <td>1</td>\n",
       "      <td>314</td>\n",
       "      <td>649</td>\n",
       "      <td>NaN</td>\n",
       "    </tr>\n",
       "    <tr>\n",
       "      <th>1907</th>\n",
       "      <td>668643542311546881</td>\n",
       "      <td>2015-11-23 04:13:37+00:00</td>\n",
       "      <td>Twitter for iPhone</td>\n",
       "      <td>Fascinating dog here. Loves beach. Oddly long ...</td>\n",
       "      <td>3</td>\n",
       "      <td>10</td>\n",
       "      <td>1</td>\n",
       "      <td>common_iguana</td>\n",
       "      <td>0.483972</td>\n",
       "      <td>0</td>\n",
       "      <td>frilled_lizard</td>\n",
       "      <td>0.111377</td>\n",
       "      <td>0</td>\n",
       "      <td>sandbar</td>\n",
       "      <td>0.078983</td>\n",
       "      <td>0</td>\n",
       "      <td>505</td>\n",
       "      <td>841</td>\n",
       "      <td>NaN</td>\n",
       "    </tr>\n",
       "    <tr>\n",
       "      <th>1941</th>\n",
       "      <td>668142349051129856</td>\n",
       "      <td>2015-11-21 19:02:04+00:00</td>\n",
       "      <td>Twitter for iPhone</td>\n",
       "      <td>This lil pup is Oliver. Hops around. Has wings...</td>\n",
       "      <td>2</td>\n",
       "      <td>10</td>\n",
       "      <td>1</td>\n",
       "      <td>Angora</td>\n",
       "      <td>0.918834</td>\n",
       "      <td>0</td>\n",
       "      <td>hen</td>\n",
       "      <td>0.037793</td>\n",
       "      <td>0</td>\n",
       "      <td>wood_rabbit</td>\n",
       "      <td>0.011015</td>\n",
       "      <td>0</td>\n",
       "      <td>267</td>\n",
       "      <td>554</td>\n",
       "      <td>NaN</td>\n",
       "    </tr>\n",
       "    <tr>\n",
       "      <th>1943</th>\n",
       "      <td>667937095915278337</td>\n",
       "      <td>2015-11-21 05:26:27+00:00</td>\n",
       "      <td>Twitter for iPhone</td>\n",
       "      <td>This dog resembles a baked potato. Bed looks u...</td>\n",
       "      <td>3</td>\n",
       "      <td>10</td>\n",
       "      <td>1</td>\n",
       "      <td>hamster</td>\n",
       "      <td>0.172078</td>\n",
       "      <td>0</td>\n",
       "      <td>guinea_pig</td>\n",
       "      <td>0.094924</td>\n",
       "      <td>0</td>\n",
       "      <td>Band_Aid</td>\n",
       "      <td>0.059995</td>\n",
       "      <td>0</td>\n",
       "      <td>756</td>\n",
       "      <td>1200</td>\n",
       "      <td>NaN</td>\n",
       "    </tr>\n",
       "    <tr>\n",
       "      <th>1950</th>\n",
       "      <td>667878741721415682</td>\n",
       "      <td>2015-11-21 01:34:35+00:00</td>\n",
       "      <td>Twitter for iPhone</td>\n",
       "      <td>This is Tedrick. He lives on the edge. Needs s...</td>\n",
       "      <td>2</td>\n",
       "      <td>10</td>\n",
       "      <td>1</td>\n",
       "      <td>seat_belt</td>\n",
       "      <td>0.200373</td>\n",
       "      <td>0</td>\n",
       "      <td>miniature_pinscher</td>\n",
       "      <td>0.106003</td>\n",
       "      <td>1</td>\n",
       "      <td>schipperke</td>\n",
       "      <td>0.104733</td>\n",
       "      <td>1</td>\n",
       "      <td>113</td>\n",
       "      <td>376</td>\n",
       "      <td>NaN</td>\n",
       "    </tr>\n",
       "    <tr>\n",
       "      <th>1965</th>\n",
       "      <td>667549055577362432</td>\n",
       "      <td>2015-11-20 03:44:31+00:00</td>\n",
       "      <td>Twitter Web Client</td>\n",
       "      <td>Never seen dog like this. Breathes heavy. Tilt...</td>\n",
       "      <td>1</td>\n",
       "      <td>10</td>\n",
       "      <td>1</td>\n",
       "      <td>electric_fan</td>\n",
       "      <td>0.984377</td>\n",
       "      <td>0</td>\n",
       "      <td>spotlight</td>\n",
       "      <td>0.007737</td>\n",
       "      <td>0</td>\n",
       "      <td>lampshade</td>\n",
       "      <td>0.001901</td>\n",
       "      <td>0</td>\n",
       "      <td>2142</td>\n",
       "      <td>5511</td>\n",
       "      <td>NaN</td>\n",
       "    </tr>\n",
       "    <tr>\n",
       "      <th>2008</th>\n",
       "      <td>666837028449972224</td>\n",
       "      <td>2015-11-18 04:35:11+00:00</td>\n",
       "      <td>Twitter for iPhone</td>\n",
       "      <td>My goodness. Very rare dog here. Large. Tail d...</td>\n",
       "      <td>3</td>\n",
       "      <td>10</td>\n",
       "      <td>1</td>\n",
       "      <td>triceratops</td>\n",
       "      <td>0.442113</td>\n",
       "      <td>0</td>\n",
       "      <td>armadillo</td>\n",
       "      <td>0.114071</td>\n",
       "      <td>0</td>\n",
       "      <td>common_iguana</td>\n",
       "      <td>0.043255</td>\n",
       "      <td>0</td>\n",
       "      <td>522</td>\n",
       "      <td>768</td>\n",
       "      <td>NaN</td>\n",
       "    </tr>\n",
       "    <tr>\n",
       "      <th>2013</th>\n",
       "      <td>666786068205871104</td>\n",
       "      <td>2015-11-18 01:12:41+00:00</td>\n",
       "      <td>Twitter for iPhone</td>\n",
       "      <td>Unfamiliar with this breed. Ears pointy af. Wo...</td>\n",
       "      <td>2</td>\n",
       "      <td>10</td>\n",
       "      <td>1</td>\n",
       "      <td>snail</td>\n",
       "      <td>0.999888</td>\n",
       "      <td>0</td>\n",
       "      <td>slug</td>\n",
       "      <td>0.000055</td>\n",
       "      <td>0</td>\n",
       "      <td>acorn</td>\n",
       "      <td>0.000026</td>\n",
       "      <td>0</td>\n",
       "      <td>456</td>\n",
       "      <td>717</td>\n",
       "      <td>NaN</td>\n",
       "    </tr>\n",
       "    <tr>\n",
       "      <th>2029</th>\n",
       "      <td>666411507551481857</td>\n",
       "      <td>2015-11-17 00:24:19+00:00</td>\n",
       "      <td>Twitter for iPhone</td>\n",
       "      <td>This is quite the dog. Gets really excited whe...</td>\n",
       "      <td>2</td>\n",
       "      <td>10</td>\n",
       "      <td>1</td>\n",
       "      <td>coho</td>\n",
       "      <td>0.404640</td>\n",
       "      <td>0</td>\n",
       "      <td>barracouta</td>\n",
       "      <td>0.271485</td>\n",
       "      <td>0</td>\n",
       "      <td>gar</td>\n",
       "      <td>0.189945</td>\n",
       "      <td>0</td>\n",
       "      <td>298</td>\n",
       "      <td>413</td>\n",
       "      <td>NaN</td>\n",
       "    </tr>\n",
       "    <tr>\n",
       "      <th>2037</th>\n",
       "      <td>666293911632134144</td>\n",
       "      <td>2015-11-16 16:37:02+00:00</td>\n",
       "      <td>Twitter for iPhone</td>\n",
       "      <td>This is a funny dog. Weird toes. Won't come do...</td>\n",
       "      <td>3</td>\n",
       "      <td>10</td>\n",
       "      <td>1</td>\n",
       "      <td>three-toed_sloth</td>\n",
       "      <td>0.914671</td>\n",
       "      <td>0</td>\n",
       "      <td>otter</td>\n",
       "      <td>0.015250</td>\n",
       "      <td>0</td>\n",
       "      <td>great_grey_owl</td>\n",
       "      <td>0.013207</td>\n",
       "      <td>0</td>\n",
       "      <td>317</td>\n",
       "      <td>465</td>\n",
       "      <td>NaN</td>\n",
       "    </tr>\n",
       "    <tr>\n",
       "      <th>2038</th>\n",
       "      <td>666287406224695296</td>\n",
       "      <td>2015-11-16 16:11:11+00:00</td>\n",
       "      <td>Twitter for iPhone</td>\n",
       "      <td>This is an Albanian 3 1/2 legged  Episcopalian...</td>\n",
       "      <td>1</td>\n",
       "      <td>2</td>\n",
       "      <td>1</td>\n",
       "      <td>Maltese_dog</td>\n",
       "      <td>0.857531</td>\n",
       "      <td>1</td>\n",
       "      <td>toy_poodle</td>\n",
       "      <td>0.063064</td>\n",
       "      <td>1</td>\n",
       "      <td>miniature_poodle</td>\n",
       "      <td>0.025581</td>\n",
       "      <td>1</td>\n",
       "      <td>61</td>\n",
       "      <td>136</td>\n",
       "      <td>NaN</td>\n",
       "    </tr>\n",
       "    <tr>\n",
       "      <th>2041</th>\n",
       "      <td>666104133288665088</td>\n",
       "      <td>2015-11-16 04:02:55+00:00</td>\n",
       "      <td>Twitter for iPhone</td>\n",
       "      <td>Not familiar with this breed. No tail (weird)....</td>\n",
       "      <td>1</td>\n",
       "      <td>10</td>\n",
       "      <td>1</td>\n",
       "      <td>hen</td>\n",
       "      <td>0.965932</td>\n",
       "      <td>0</td>\n",
       "      <td>cock</td>\n",
       "      <td>0.033919</td>\n",
       "      <td>0</td>\n",
       "      <td>partridge</td>\n",
       "      <td>0.000052</td>\n",
       "      <td>0</td>\n",
       "      <td>5972</td>\n",
       "      <td>13610</td>\n",
       "      <td>NaN</td>\n",
       "    </tr>\n",
       "    <tr>\n",
       "      <th>2052</th>\n",
       "      <td>666051853826850816</td>\n",
       "      <td>2015-11-16 00:35:11+00:00</td>\n",
       "      <td>Twitter for iPhone</td>\n",
       "      <td>This is an odd dog. Hard on the outside but lo...</td>\n",
       "      <td>2</td>\n",
       "      <td>10</td>\n",
       "      <td>1</td>\n",
       "      <td>box_turtle</td>\n",
       "      <td>0.933012</td>\n",
       "      <td>0</td>\n",
       "      <td>mud_turtle</td>\n",
       "      <td>0.045885</td>\n",
       "      <td>0</td>\n",
       "      <td>terrapin</td>\n",
       "      <td>0.017885</td>\n",
       "      <td>0</td>\n",
       "      <td>774</td>\n",
       "      <td>1124</td>\n",
       "      <td>NaN</td>\n",
       "    </tr>\n",
       "  </tbody>\n",
       "</table>\n",
       "</div>"
      ],
      "text/plain": [
       "                tweet_id                 timestamp              source                                               text  rating_numerator  rating_denominator  img_num                  p1   p1_conf  p1_dog                              p2   p2_conf  p2_dog                         p3   p3_conf  p3_dog  retweet_count  favorite_count dog_stage\n",
       "241   835152434251116546 2017-02-24 15:40:31+00:00  Twitter for iPhone  When you're so blinded by your systematic plag...                 0                  10        3               swing  0.967066       0  American_Staffordshire_terrier  0.012731       1  Staffordshire_bullterrier  0.007039       1           3019           22405       NaN\n",
       "604   777885040357281792 2016-09-19 15:00:20+00:00  Twitter for iPhone  This is Wesley. He's clearly trespassing. Seem...                 3                  10        1        Afghan_hound  0.123529       1                          basset  0.119682       1             Siberian_husky  0.108709       1           1647            6407       NaN\n",
       "978   718246886998687744 2016-04-08 01:19:36+00:00  Twitter for iPhone  This is Alexanderson. He's got a weird ass bir...                 3                  10        1           Chihuahua  0.354488       1                          carton  0.159672       0             Siberian_husky  0.057498       1            499            1892       NaN\n",
       "1029  711306686208872448 2016-03-19 21:41:44+00:00  Twitter for iPhone  What hooligan sent in pictures w/out a dog in ...                 3                  10        1  leatherback_turtle  0.280835       0                      loggerhead  0.123290       0             Dandie_Dinmont  0.086792       1            731            3272       NaN\n",
       "1085  706901761596989440 2016-03-07 17:58:08+00:00  Twitter for iPhone  This is Elliot. He's blocking the roadway. Dow...                 3                  10        1           wild_boar  0.859499       0                             hog  0.128981       0                    warthog  0.011318       0            590            2037       NaN\n",
       "1170  699088579889332224 2016-02-15 04:31:20+00:00  Twitter for iPhone  This is Charl. He's a bully. Chucks that dumbb...                 3                  10        1           mousetrap  0.456186       0                    banded_gecko  0.258677       0              common_iguana  0.061783       0            630            2229       NaN\n",
       "1231  693590843962331137 2016-01-31 00:25:18+00:00  Twitter for iPhone  Meet Phil. He's big af. Currently destroying t...                 3                  10        1        dining_table  0.383448       0                        grey_fox  0.103191       0                Siamese_cat  0.098256       0           1946            5024    pupper\n",
       "1337  686003207160610816 2016-01-10 01:54:44+00:00  Twitter for iPhone  This is Hammond. He's a peculiar pup. Loves lo...                 3                  10        1           damselfly  0.190786       0                     common_newt  0.098131       0                   whiptail  0.088958       0            621            1818       NaN\n",
       "1419  681302363064414209 2015-12-28 02:35:15+00:00  Twitter for iPhone  This is Chuck. He's a neat dog. Very flexible....                 3                  10        1      frilled_lizard  0.326259       0                     tailed_frog  0.104539       0                    axolotl  0.072479       0           1802            3906       NaN\n",
       "1482  678675843183484930 2015-12-20 20:38:24+00:00  Twitter for iPhone  Exotic pup here. Tail long af. Throat looks sw...                 2                  10        1                maze  0.339850       0                       streetcar  0.099688       0                    sundial  0.084808       0           1435            2821       NaN\n",
       "1485  678424312106393600 2015-12-20 03:58:55+00:00  Twitter for iPhone  This is Crystal. She's a shitty fireman. No se...                 2                  10        1         Maltese_dog  0.759945       1                      toy_poodle  0.101194       1                   Shih-Tzu  0.056037       1           2500            5396       NaN\n",
       "1550  676098748976615425 2015-12-13 17:57:57+00:00  Twitter for iPhone  Extremely rare pup here. Very religious. Alway...                 3                  10        1       walking_stick  0.162179       0                          sandal  0.129086       0                      purse  0.081412       0           1385            2930       NaN\n",
       "1582  675153376133427200 2015-12-11 03:21:23+00:00  Twitter for iPhone  What kind of person sends in a picture without...                 1                  10        1         paper_towel  0.327957       0                         mailbox  0.096027       0                  seat_belt  0.034995       0           2497            6062       NaN\n",
       "1610  674690135443775488 2015-12-09 20:40:38+00:00  Twitter for iPhone  Meet Patrick. He's an exotic pup. Jumps great ...                 3                  10        1                tick  0.242538       0                            nail  0.212589       0                      screw  0.172838       0            456            1111       NaN\n",
       "1629  674265582246694913 2015-12-08 16:33:36+00:00  Twitter for iPhone  This is Henry. He's a shit dog. Short pointy e...                 2                  10        1                slug  0.998075       0                       ice_lolly  0.000984       0                 leafhopper  0.000097       0            808            1581       NaN\n",
       "1637  674045139690631169 2015-12-08 01:57:39+00:00  Twitter for iPhone  Herd of wild dogs here. Not sure what they're ...                 3                  10        1               robin  0.369661       0               rhinoceros_beetle  0.110607       0   European_fire_salamander  0.043178       0            615            1358       NaN\n",
       "1647  673906403526995968 2015-12-07 16:46:21+00:00  Twitter for iPhone  Guys I'm getting real tired of this. We only r...                 3                  10        1         toilet_seat  0.683319       0     soft-coated_wheaten_terrier  0.048928       1             Siberian_husky  0.030386       1           1562            3061       NaN\n",
       "1655  673700254269775872 2015-12-07 03:07:12+00:00  Twitter for iPhone  Large blue dog here. Cool shades. Flipping us ...                 3                  10        1        water_bottle  0.614536       0                          ashcan  0.050911       0                     bucket  0.037432       0            544            1378       NaN\n",
       "1786  670826280409919488 2015-11-29 04:47:03+00:00  Twitter for iPhone  Scary dog here. Too many legs. Extra tail. Not...                 2                  10        1            scorpion  0.927956       0                       tarantula  0.021631       0                wolf_spider  0.014837       0           3877            5299       NaN\n",
       "1798  670783437142401025 2015-11-29 01:56:48+00:00  Twitter for iPhone  Flamboyant pup here. Probably poisonous. Won't...                 1                  10        1            lacewing  0.381955       0               sulphur_butterfly  0.106810       0                 leafhopper  0.068347       0            367             796       NaN\n",
       "1843  670055038660800512 2015-11-27 01:42:24+00:00  Twitter for iPhone  This is Tommy. He's a cool dog. Hard not to st...                 3                  10        1               snail  0.563631       0                            slug  0.296649       0                     bolete  0.031839       0            313             642       NaN\n",
       "1889  668989615043424256 2015-11-24 03:08:48+00:00  Twitter for iPhone  This is Bernie. He's taking his Halloween cost...                 3                  10        1                 pug  0.917326       1                     waffle_iron  0.014918       0                  Chihuahua  0.013524       1            314             649       NaN\n",
       "1907  668643542311546881 2015-11-23 04:13:37+00:00  Twitter for iPhone  Fascinating dog here. Loves beach. Oddly long ...                 3                  10        1       common_iguana  0.483972       0                  frilled_lizard  0.111377       0                    sandbar  0.078983       0            505             841       NaN\n",
       "1941  668142349051129856 2015-11-21 19:02:04+00:00  Twitter for iPhone  This lil pup is Oliver. Hops around. Has wings...                 2                  10        1              Angora  0.918834       0                             hen  0.037793       0                wood_rabbit  0.011015       0            267             554       NaN\n",
       "1943  667937095915278337 2015-11-21 05:26:27+00:00  Twitter for iPhone  This dog resembles a baked potato. Bed looks u...                 3                  10        1             hamster  0.172078       0                      guinea_pig  0.094924       0                   Band_Aid  0.059995       0            756            1200       NaN\n",
       "1950  667878741721415682 2015-11-21 01:34:35+00:00  Twitter for iPhone  This is Tedrick. He lives on the edge. Needs s...                 2                  10        1           seat_belt  0.200373       0              miniature_pinscher  0.106003       1                 schipperke  0.104733       1            113             376       NaN\n",
       "1965  667549055577362432 2015-11-20 03:44:31+00:00  Twitter Web Client  Never seen dog like this. Breathes heavy. Tilt...                 1                  10        1        electric_fan  0.984377       0                       spotlight  0.007737       0                  lampshade  0.001901       0           2142            5511       NaN\n",
       "2008  666837028449972224 2015-11-18 04:35:11+00:00  Twitter for iPhone  My goodness. Very rare dog here. Large. Tail d...                 3                  10        1         triceratops  0.442113       0                       armadillo  0.114071       0              common_iguana  0.043255       0            522             768       NaN\n",
       "2013  666786068205871104 2015-11-18 01:12:41+00:00  Twitter for iPhone  Unfamiliar with this breed. Ears pointy af. Wo...                 2                  10        1               snail  0.999888       0                            slug  0.000055       0                      acorn  0.000026       0            456             717       NaN\n",
       "2029  666411507551481857 2015-11-17 00:24:19+00:00  Twitter for iPhone  This is quite the dog. Gets really excited whe...                 2                  10        1                coho  0.404640       0                      barracouta  0.271485       0                        gar  0.189945       0            298             413       NaN\n",
       "2037  666293911632134144 2015-11-16 16:37:02+00:00  Twitter for iPhone  This is a funny dog. Weird toes. Won't come do...                 3                  10        1    three-toed_sloth  0.914671       0                           otter  0.015250       0             great_grey_owl  0.013207       0            317             465       NaN\n",
       "2038  666287406224695296 2015-11-16 16:11:11+00:00  Twitter for iPhone  This is an Albanian 3 1/2 legged  Episcopalian...                 1                   2        1         Maltese_dog  0.857531       1                      toy_poodle  0.063064       1           miniature_poodle  0.025581       1             61             136       NaN\n",
       "2041  666104133288665088 2015-11-16 04:02:55+00:00  Twitter for iPhone  Not familiar with this breed. No tail (weird)....                 1                  10        1                 hen  0.965932       0                            cock  0.033919       0                  partridge  0.000052       0           5972           13610       NaN\n",
       "2052  666051853826850816 2015-11-16 00:35:11+00:00  Twitter for iPhone  This is an odd dog. Hard on the outside but lo...                 2                  10        1          box_turtle  0.933012       0                      mud_turtle  0.045885       0                   terrapin  0.017885       0            774            1124       NaN"
      ]
     },
     "execution_count": 292,
     "metadata": {},
     "output_type": "execute_result"
    }
   ],
   "source": [
    "rating_test_df = master_df[master_df.rating_numerator <= 3]\n",
    "rating_test_df"
   ]
  },
  {
   "cell_type": "code",
   "execution_count": 293,
   "metadata": {},
   "outputs": [
    {
     "data": {
      "text/plain": [
       "[\"When you're so blinded by your systematic plagiarism that you forget what day it is. 0/10 https://t.co/YbEJPkg4Ag\",\n",
       " \"This is Wesley. He's clearly trespassing. Seems rather h*ckin violent too. Weaponized forehead. 3/10 wouldn't let in https://t.co/pL7wbMRW7M\",\n",
       " \"This is Alexanderson. He's got a weird ass birth mark. Dreadful at fetch. Won't eat kibble. 3/10 wtf @Target https://t.co/FmxOpf2Sgl\",\n",
       " \"What hooligan sent in pictures w/out a dog in them? Churlish af. 3/10 just bc that's a neat fluffy bean bag chair https://t.co/wcwoGOkZvz\",\n",
       " \"This is Elliot. He's blocking the roadway. Downright rude as hell. Doesn't care that you're already late. 3/10 https://t.co/FMUxir5pYu\",\n",
       " \"This is Charl. He's a bully. Chucks that dumbbell around like its nothing. Sharp neck. Exceptionally unfluffy. 3/10 https://t.co/VfLoDZecJ7\",\n",
       " \"Meet Phil. He's big af. Currently destroying this nice family home. Completely uncalled for. 3/10 not a good pupper https://t.co/fShNNhBWYx\",\n",
       " \"This is Hammond. He's a peculiar pup. Loves long walks. Bark barely audible. Too many legs. 3/10 must be rare https://t.co/NOIiRWr5Jf\",\n",
       " \"This is Chuck. He's a neat dog. Very flexible. Trapped in a glass case of emotion. Devastatingly unfluffy 3/10 https://t.co/YqbU9xHV3p\",\n",
       " 'Exotic pup here. Tail long af. Throat looks swollen. Might breathe fire. Exceptionally unfluffy 2/10 would still pet https://t.co/a8SqCaSo2r',\n",
       " \"This is Crystal. She's a shitty fireman. No sense of urgency. People could be dying Crystal. 2/10 just irresponsible https://t.co/rtMtjSl9pz\",\n",
       " \"Extremely rare pup here. Very religious. Always praying. Too many legs. Not overwhelmingly fluffy. Won't bark. 3/10 https://t.co/REyE5YKVBb\",\n",
       " \"What kind of person sends in a picture without a dog in it? 1/10 just because that's a nice table https://t.co/RDXCfk8hK0\",\n",
       " \"Meet Patrick. He's an exotic pup. Jumps great distances for a dog. Always gets injured when I toss him a ball. 3/10 https://t.co/Unz1uNrOzo\",\n",
       " \"This is Henry. He's a shit dog. Short pointy ears. Leaves trail of pee. Not fluffy. Doesn't come when called. 2/10 https://t.co/Pu9RhfHDEQ\",\n",
       " \"Herd of wild dogs here. Not sure what they're trying to do. No real goals in life. 3/10 find your purpose puppers https://t.co/t5ih0VrK02\",\n",
       " \"Guys I'm getting real tired of this. We only rate dogs. Please don't send in other things like this Bulbasaur. 3/10 https://t.co/t5rQHl6W8M\",\n",
       " 'Large blue dog here. Cool shades. Flipping us off w both hands. Obviously a preteen. 3/10 for rude blue preteen pup https://t.co/mcPd5AFfhA',\n",
       " \"Scary dog here. Too many legs. Extra tail. Not soft, let alone fluffy. Won't bark. Moves sideways. Has weapon. 2/10 https://t.co/XOPXCSXiUT\",\n",
       " \"Flamboyant pup here. Probably poisonous. Won't eat kibble. Doesn't bark. Slow af. Petting doesn't look fun. 1/10 https://t.co/jxukeh2BeO\",\n",
       " \"This is Tommy. He's a cool dog. Hard not to step on. Won't let go of seashell. Not fast by any means. 3/10 https://t.co/0gY6XTOpn3\",\n",
       " \"This is Bernie. He's taking his Halloween costume very seriously. Wants to be baked. 3/10 not a good idea Bernie smh https://t.co/1zBp1moFlX\",\n",
       " 'Fascinating dog here. Loves beach. Oddly long nose for dog. Massive ass paws. Hard to cuddle w. 3/10 would still pet https://t.co/IiSdmhkC5N',\n",
       " \"This lil pup is Oliver. Hops around. Has wings but doesn't fly (lame). Annoying chirp. Won't catch tennis balls 2/10 https://t.co/DnhUw0aBM2\",\n",
       " 'This dog resembles a baked potato. Bed looks uncomfortable. No tail. Comes with butter tho. 3/10 petting still fun https://t.co/x89NSCEZCq',\n",
       " \"This is Tedrick. He lives on the edge. Needs someone to hit the gas tho. Other than that he's a baller. 10&amp;2/10 https://t.co/LvP1TTYSCN\",\n",
       " 'Never seen dog like this. Breathes heavy. Tilts head in a pattern. No bark. Shitty at fetch. Not even cordless. 1/10 https://t.co/i9iSGNn3fx',\n",
       " \"My goodness. Very rare dog here. Large. Tail dangerous. Kinda fat. Only eats leaves. Doesn't come when called 3/10 https://t.co/xYGdBrMS9h\",\n",
       " \"Unfamiliar with this breed. Ears pointy af. Won't let go of seashell. Won't eat kibble. Not very fast. Bad dog 2/10 https://t.co/EIn5kElY1S\",\n",
       " \"This is quite the dog. Gets really excited when not in water. Not very soft tho. Bad at fetch. Can't do tricks. 2/10 https://t.co/aMCTNWO94t\",\n",
       " \"This is a funny dog. Weird toes. Won't come down. Loves branch. Refuses to eat his food. Hard to cuddle with. 3/10 https://t.co/IIXis0zta0\",\n",
       " 'This is an Albanian 3 1/2 legged  Episcopalian. Loves well-polished hardwood flooring. Penis on the collar. 9/10 https://t.co/d9NcXFKwLv',\n",
       " \"Not familiar with this breed. No tail (weird). Only 2 legs. Doesn't bark. Surprisingly quick. Shits eggs. 1/10 https://t.co/Asgdc6kuLX\",\n",
       " \"This is an odd dog. Hard on the outside but loving on the inside. Petting still fun. Doesn't play catch well. 2/10 https://t.co/v5A4vzSDdc\"]"
      ]
     },
     "execution_count": 293,
     "metadata": {},
     "output_type": "execute_result"
    }
   ],
   "source": [
    "rating_test_df['text'].tolist()"
   ]
  },
  {
   "cell_type": "code",
   "execution_count": 294,
   "metadata": {},
   "outputs": [
    {
     "data": {
      "text/plain": [
       "snail                 2\n",
       "Maltese_dog           2\n",
       "mousetrap             1\n",
       "common_iguana         1\n",
       "robin                 1\n",
       "lacewing              1\n",
       "hamster               1\n",
       "walking_stick         1\n",
       "leatherback_turtle    1\n",
       "wild_boar             1\n",
       "slug                  1\n",
       "scorpion              1\n",
       "seat_belt             1\n",
       "hen                   1\n",
       "electric_fan          1\n",
       "coho                  1\n",
       "box_turtle            1\n",
       "paper_towel           1\n",
       "Afghan_hound          1\n",
       "swing                 1\n",
       "maze                  1\n",
       "toilet_seat           1\n",
       "dining_table          1\n",
       "pug                   1\n",
       "damselfly             1\n",
       "triceratops           1\n",
       "three-toed_sloth      1\n",
       "Chihuahua             1\n",
       "frilled_lizard        1\n",
       "water_bottle          1\n",
       "Angora                1\n",
       "tick                  1\n",
       "Name: p1, dtype: int64"
      ]
     },
     "execution_count": 294,
     "metadata": {},
     "output_type": "execute_result"
    }
   ],
   "source": [
    "rating_test_df.p1.value_counts()"
   ]
  },
  {
   "cell_type": "markdown",
   "metadata": {},
   "source": [
    "> Tweet text and value counts for the most confident prediction indicate that dogs who received unordinarily low rating numerators may not be images of actual dogs. \n",
    "\n",
    "> Since these cases represent such a small percentage of the sample I will remove them in an effort to maintain data integrity."
   ]
  },
  {
   "cell_type": "code",
   "execution_count": 295,
   "metadata": {},
   "outputs": [],
   "source": [
    "master_df = master_df[master_df.rating_numerator > 3]"
   ]
  },
  {
   "cell_type": "code",
   "execution_count": 296,
   "metadata": {},
   "outputs": [
    {
     "data": {
      "text/plain": [
       "10    1903\n",
       "11       2\n",
       "20       1\n",
       "Name: rating_denominator, dtype: int64"
      ]
     },
     "execution_count": 296,
     "metadata": {},
     "output_type": "execute_result"
    }
   ],
   "source": [
    "master_df.rating_denominator.value_counts()"
   ]
  },
  {
   "cell_type": "code",
   "execution_count": 299,
   "metadata": {},
   "outputs": [],
   "source": [
    "# Remove very small number of unordinary rating denominators to maintain data integrity, then drop column\n",
    "\n",
    "master_df = master_df[master_df.rating_denominator == 10]\n",
    "master_df.drop('rating_denominator', axis=1, inplace=True)"
   ]
  },
  {
   "cell_type": "code",
   "execution_count": 300,
   "metadata": {},
   "outputs": [
    {
     "data": {
      "text/html": [
       "<div>\n",
       "<style scoped>\n",
       "    .dataframe tbody tr th:only-of-type {\n",
       "        vertical-align: middle;\n",
       "    }\n",
       "\n",
       "    .dataframe tbody tr th {\n",
       "        vertical-align: top;\n",
       "    }\n",
       "\n",
       "    .dataframe thead th {\n",
       "        text-align: right;\n",
       "    }\n",
       "</style>\n",
       "<table border=\"1\" class=\"dataframe\">\n",
       "  <thead>\n",
       "    <tr style=\"text-align: right;\">\n",
       "      <th></th>\n",
       "      <th>tweet_id</th>\n",
       "      <th>timestamp</th>\n",
       "      <th>source</th>\n",
       "      <th>text</th>\n",
       "      <th>rating_numerator</th>\n",
       "      <th>img_num</th>\n",
       "      <th>p1</th>\n",
       "      <th>p1_conf</th>\n",
       "      <th>p1_dog</th>\n",
       "      <th>p2</th>\n",
       "      <th>p2_conf</th>\n",
       "      <th>p2_dog</th>\n",
       "      <th>p3</th>\n",
       "      <th>p3_conf</th>\n",
       "      <th>p3_dog</th>\n",
       "      <th>retweet_count</th>\n",
       "      <th>favorite_count</th>\n",
       "      <th>dog_stage</th>\n",
       "    </tr>\n",
       "  </thead>\n",
       "  <tbody>\n",
       "    <tr>\n",
       "      <th>0</th>\n",
       "      <td>892420643555336193</td>\n",
       "      <td>2017-08-01 16:23:56+00:00</td>\n",
       "      <td>Twitter for iPhone</td>\n",
       "      <td>This is Phineas. He's a mystical boy. Only eve...</td>\n",
       "      <td>13</td>\n",
       "      <td>1</td>\n",
       "      <td>orange</td>\n",
       "      <td>0.097049</td>\n",
       "      <td>0</td>\n",
       "      <td>bagel</td>\n",
       "      <td>0.085851</td>\n",
       "      <td>0</td>\n",
       "      <td>banana</td>\n",
       "      <td>0.076110</td>\n",
       "      <td>0</td>\n",
       "      <td>7688</td>\n",
       "      <td>36100</td>\n",
       "      <td>NaN</td>\n",
       "    </tr>\n",
       "    <tr>\n",
       "      <th>1</th>\n",
       "      <td>892177421306343426</td>\n",
       "      <td>2017-08-01 00:17:27+00:00</td>\n",
       "      <td>Twitter for iPhone</td>\n",
       "      <td>This is Tilly. She's just checking pup on you....</td>\n",
       "      <td>13</td>\n",
       "      <td>1</td>\n",
       "      <td>Chihuahua</td>\n",
       "      <td>0.323581</td>\n",
       "      <td>1</td>\n",
       "      <td>Pekinese</td>\n",
       "      <td>0.090647</td>\n",
       "      <td>1</td>\n",
       "      <td>papillon</td>\n",
       "      <td>0.068957</td>\n",
       "      <td>1</td>\n",
       "      <td>5687</td>\n",
       "      <td>31142</td>\n",
       "      <td>NaN</td>\n",
       "    </tr>\n",
       "    <tr>\n",
       "      <th>2</th>\n",
       "      <td>891815181378084864</td>\n",
       "      <td>2017-07-31 00:18:03+00:00</td>\n",
       "      <td>Twitter for iPhone</td>\n",
       "      <td>This is Archie. He is a rare Norwegian Pouncin...</td>\n",
       "      <td>12</td>\n",
       "      <td>1</td>\n",
       "      <td>Chihuahua</td>\n",
       "      <td>0.716012</td>\n",
       "      <td>1</td>\n",
       "      <td>malamute</td>\n",
       "      <td>0.078253</td>\n",
       "      <td>1</td>\n",
       "      <td>kelpie</td>\n",
       "      <td>0.031379</td>\n",
       "      <td>1</td>\n",
       "      <td>3770</td>\n",
       "      <td>23449</td>\n",
       "      <td>NaN</td>\n",
       "    </tr>\n",
       "    <tr>\n",
       "      <th>3</th>\n",
       "      <td>891689557279858688</td>\n",
       "      <td>2017-07-30 15:58:51+00:00</td>\n",
       "      <td>Twitter for iPhone</td>\n",
       "      <td>This is Darla. She commenced a snooze mid meal...</td>\n",
       "      <td>13</td>\n",
       "      <td>1</td>\n",
       "      <td>paper_towel</td>\n",
       "      <td>0.170278</td>\n",
       "      <td>0</td>\n",
       "      <td>Labrador_retriever</td>\n",
       "      <td>0.168086</td>\n",
       "      <td>1</td>\n",
       "      <td>spatula</td>\n",
       "      <td>0.040836</td>\n",
       "      <td>0</td>\n",
       "      <td>7854</td>\n",
       "      <td>39385</td>\n",
       "      <td>NaN</td>\n",
       "    </tr>\n",
       "    <tr>\n",
       "      <th>4</th>\n",
       "      <td>891327558926688256</td>\n",
       "      <td>2017-07-29 16:00:24+00:00</td>\n",
       "      <td>Twitter for iPhone</td>\n",
       "      <td>This is Franklin. He would like you to stop ca...</td>\n",
       "      <td>12</td>\n",
       "      <td>2</td>\n",
       "      <td>basset</td>\n",
       "      <td>0.555712</td>\n",
       "      <td>1</td>\n",
       "      <td>English_springer</td>\n",
       "      <td>0.225770</td>\n",
       "      <td>1</td>\n",
       "      <td>German_short-haired_pointer</td>\n",
       "      <td>0.175219</td>\n",
       "      <td>1</td>\n",
       "      <td>8460</td>\n",
       "      <td>37617</td>\n",
       "      <td>NaN</td>\n",
       "    </tr>\n",
       "    <tr>\n",
       "      <th>...</th>\n",
       "      <td>...</td>\n",
       "      <td>...</td>\n",
       "      <td>...</td>\n",
       "      <td>...</td>\n",
       "      <td>...</td>\n",
       "      <td>...</td>\n",
       "      <td>...</td>\n",
       "      <td>...</td>\n",
       "      <td>...</td>\n",
       "      <td>...</td>\n",
       "      <td>...</td>\n",
       "      <td>...</td>\n",
       "      <td>...</td>\n",
       "      <td>...</td>\n",
       "      <td>...</td>\n",
       "      <td>...</td>\n",
       "      <td>...</td>\n",
       "      <td>...</td>\n",
       "    </tr>\n",
       "    <tr>\n",
       "      <th>2054</th>\n",
       "      <td>666049248165822465</td>\n",
       "      <td>2015-11-16 00:24:50+00:00</td>\n",
       "      <td>Twitter for iPhone</td>\n",
       "      <td>Here we have a 1949 1st generation vulpix. Enj...</td>\n",
       "      <td>5</td>\n",
       "      <td>1</td>\n",
       "      <td>miniature_pinscher</td>\n",
       "      <td>0.560311</td>\n",
       "      <td>1</td>\n",
       "      <td>Rottweiler</td>\n",
       "      <td>0.243682</td>\n",
       "      <td>1</td>\n",
       "      <td>Doberman</td>\n",
       "      <td>0.154629</td>\n",
       "      <td>1</td>\n",
       "      <td>40</td>\n",
       "      <td>96</td>\n",
       "      <td>NaN</td>\n",
       "    </tr>\n",
       "    <tr>\n",
       "      <th>2055</th>\n",
       "      <td>666044226329800704</td>\n",
       "      <td>2015-11-16 00:04:52+00:00</td>\n",
       "      <td>Twitter for iPhone</td>\n",
       "      <td>This is a purebred Piers Morgan. Loves to Netf...</td>\n",
       "      <td>6</td>\n",
       "      <td>1</td>\n",
       "      <td>Rhodesian_ridgeback</td>\n",
       "      <td>0.408143</td>\n",
       "      <td>1</td>\n",
       "      <td>redbone</td>\n",
       "      <td>0.360687</td>\n",
       "      <td>1</td>\n",
       "      <td>miniature_pinscher</td>\n",
       "      <td>0.222752</td>\n",
       "      <td>1</td>\n",
       "      <td>131</td>\n",
       "      <td>272</td>\n",
       "      <td>NaN</td>\n",
       "    </tr>\n",
       "    <tr>\n",
       "      <th>2056</th>\n",
       "      <td>666033412701032449</td>\n",
       "      <td>2015-11-15 23:21:54+00:00</td>\n",
       "      <td>Twitter for iPhone</td>\n",
       "      <td>Here is a very happy pup. Big fan of well-main...</td>\n",
       "      <td>9</td>\n",
       "      <td>1</td>\n",
       "      <td>German_shepherd</td>\n",
       "      <td>0.596461</td>\n",
       "      <td>1</td>\n",
       "      <td>malinois</td>\n",
       "      <td>0.138584</td>\n",
       "      <td>1</td>\n",
       "      <td>bloodhound</td>\n",
       "      <td>0.116197</td>\n",
       "      <td>1</td>\n",
       "      <td>41</td>\n",
       "      <td>112</td>\n",
       "      <td>NaN</td>\n",
       "    </tr>\n",
       "    <tr>\n",
       "      <th>2057</th>\n",
       "      <td>666029285002620928</td>\n",
       "      <td>2015-11-15 23:05:30+00:00</td>\n",
       "      <td>Twitter for iPhone</td>\n",
       "      <td>This is a western brown Mitsubishi terrier. Up...</td>\n",
       "      <td>7</td>\n",
       "      <td>1</td>\n",
       "      <td>redbone</td>\n",
       "      <td>0.506826</td>\n",
       "      <td>1</td>\n",
       "      <td>miniature_pinscher</td>\n",
       "      <td>0.074192</td>\n",
       "      <td>1</td>\n",
       "      <td>Rhodesian_ridgeback</td>\n",
       "      <td>0.072010</td>\n",
       "      <td>1</td>\n",
       "      <td>42</td>\n",
       "      <td>121</td>\n",
       "      <td>NaN</td>\n",
       "    </tr>\n",
       "    <tr>\n",
       "      <th>2058</th>\n",
       "      <td>666020888022790149</td>\n",
       "      <td>2015-11-15 22:32:08+00:00</td>\n",
       "      <td>Twitter for iPhone</td>\n",
       "      <td>Here we have a Japanese Irish Setter. Lost eye...</td>\n",
       "      <td>8</td>\n",
       "      <td>1</td>\n",
       "      <td>Welsh_springer_spaniel</td>\n",
       "      <td>0.465074</td>\n",
       "      <td>1</td>\n",
       "      <td>collie</td>\n",
       "      <td>0.156665</td>\n",
       "      <td>1</td>\n",
       "      <td>Shetland_sheepdog</td>\n",
       "      <td>0.061428</td>\n",
       "      <td>1</td>\n",
       "      <td>460</td>\n",
       "      <td>2408</td>\n",
       "      <td>NaN</td>\n",
       "    </tr>\n",
       "  </tbody>\n",
       "</table>\n",
       "<p>1903 rows × 18 columns</p>\n",
       "</div>"
      ],
      "text/plain": [
       "                tweet_id                 timestamp              source                                               text  rating_numerator  img_num                      p1   p1_conf  p1_dog                  p2   p2_conf  p2_dog                           p3   p3_conf  p3_dog  retweet_count  favorite_count dog_stage\n",
       "0     892420643555336193 2017-08-01 16:23:56+00:00  Twitter for iPhone  This is Phineas. He's a mystical boy. Only eve...                13        1                  orange  0.097049       0               bagel  0.085851       0                       banana  0.076110       0           7688           36100       NaN\n",
       "1     892177421306343426 2017-08-01 00:17:27+00:00  Twitter for iPhone  This is Tilly. She's just checking pup on you....                13        1               Chihuahua  0.323581       1            Pekinese  0.090647       1                     papillon  0.068957       1           5687           31142       NaN\n",
       "2     891815181378084864 2017-07-31 00:18:03+00:00  Twitter for iPhone  This is Archie. He is a rare Norwegian Pouncin...                12        1               Chihuahua  0.716012       1            malamute  0.078253       1                       kelpie  0.031379       1           3770           23449       NaN\n",
       "3     891689557279858688 2017-07-30 15:58:51+00:00  Twitter for iPhone  This is Darla. She commenced a snooze mid meal...                13        1             paper_towel  0.170278       0  Labrador_retriever  0.168086       1                      spatula  0.040836       0           7854           39385       NaN\n",
       "4     891327558926688256 2017-07-29 16:00:24+00:00  Twitter for iPhone  This is Franklin. He would like you to stop ca...                12        2                  basset  0.555712       1    English_springer  0.225770       1  German_short-haired_pointer  0.175219       1           8460           37617       NaN\n",
       "...                  ...                       ...                 ...                                                ...               ...      ...                     ...       ...     ...                 ...       ...     ...                          ...       ...     ...            ...             ...       ...\n",
       "2054  666049248165822465 2015-11-16 00:24:50+00:00  Twitter for iPhone  Here we have a 1949 1st generation vulpix. Enj...                 5        1      miniature_pinscher  0.560311       1          Rottweiler  0.243682       1                     Doberman  0.154629       1             40              96       NaN\n",
       "2055  666044226329800704 2015-11-16 00:04:52+00:00  Twitter for iPhone  This is a purebred Piers Morgan. Loves to Netf...                 6        1     Rhodesian_ridgeback  0.408143       1             redbone  0.360687       1           miniature_pinscher  0.222752       1            131             272       NaN\n",
       "2056  666033412701032449 2015-11-15 23:21:54+00:00  Twitter for iPhone  Here is a very happy pup. Big fan of well-main...                 9        1         German_shepherd  0.596461       1            malinois  0.138584       1                   bloodhound  0.116197       1             41             112       NaN\n",
       "2057  666029285002620928 2015-11-15 23:05:30+00:00  Twitter for iPhone  This is a western brown Mitsubishi terrier. Up...                 7        1                 redbone  0.506826       1  miniature_pinscher  0.074192       1          Rhodesian_ridgeback  0.072010       1             42             121       NaN\n",
       "2058  666020888022790149 2015-11-15 22:32:08+00:00  Twitter for iPhone  Here we have a Japanese Irish Setter. Lost eye...                 8        1  Welsh_springer_spaniel  0.465074       1              collie  0.156665       1            Shetland_sheepdog  0.061428       1            460            2408       NaN\n",
       "\n",
       "[1903 rows x 18 columns]"
      ]
     },
     "execution_count": 300,
     "metadata": {},
     "output_type": "execute_result"
    }
   ],
   "source": [
    "master_df"
   ]
  },
  {
   "cell_type": "markdown",
   "metadata": {},
   "source": [
    "# Storing, Analyzing, and Visualizing Data\n",
    "\n",
    "> ### Goal: Show at least (3) insights and one (1) visualization."
   ]
  },
  {
   "cell_type": "code",
   "execution_count": 308,
   "metadata": {},
   "outputs": [],
   "source": [
    "# Save DataFrame to CSV\n",
    "\n",
    "master_df.to_csv('twitter_archive_master.csv')"
   ]
  },
  {
   "cell_type": "code",
   "execution_count": 355,
   "metadata": {},
   "outputs": [
    {
     "data": {
      "text/plain": [
       "count    1903.000000\n",
       "mean       10.672622\n",
       "std         1.904536\n",
       "min         4.000000\n",
       "25%        10.000000\n",
       "50%        11.000000\n",
       "75%        12.000000\n",
       "max        14.000000\n",
       "Name: rating_numerator, dtype: float64"
      ]
     },
     "execution_count": 355,
     "metadata": {},
     "output_type": "execute_result"
    }
   ],
   "source": [
    "master_df.rating_numerator.describe()"
   ]
  },
  {
   "cell_type": "code",
   "execution_count": 387,
   "metadata": {},
   "outputs": [
    {
     "data": {
      "text/plain": [
       "count    662.000000\n",
       "mean      10.918429\n",
       "std        1.772882\n",
       "min        4.000000\n",
       "25%       10.000000\n",
       "50%       11.000000\n",
       "75%       12.000000\n",
       "max       14.000000\n",
       "Name: rating_numerator, dtype: float64"
      ]
     },
     "execution_count": 387,
     "metadata": {},
     "output_type": "execute_result"
    }
   ],
   "source": [
    "confident_df = master_df[master_df.p1_conf > .75]\n",
    "confident_df.rating_numerator.describe()"
   ]
  },
  {
   "cell_type": "code",
   "execution_count": 392,
   "metadata": {},
   "outputs": [
    {
     "data": {
      "text/plain": [
       "count    215.000000\n",
       "mean      10.944186\n",
       "std        1.908332\n",
       "min        4.000000\n",
       "25%       10.000000\n",
       "50%       11.000000\n",
       "75%       12.000000\n",
       "max       14.000000\n",
       "Name: rating_numerator, dtype: float64"
      ]
     },
     "execution_count": 392,
     "metadata": {},
     "output_type": "execute_result"
    }
   ],
   "source": [
    "avg_conf_df = master_df[master_df.p1_conf > .45]\n",
    "avg_conf_df = avg_conf_df[avg_conf_df.p1_conf < .55]\n",
    "avg_conf_df.rating_numerator.describe()"
   ]
  },
  {
   "cell_type": "code",
   "execution_count": 361,
   "metadata": {},
   "outputs": [
    {
     "data": {
      "text/plain": [
       "count    233.000000\n",
       "mean      10.253219\n",
       "std        2.015094\n",
       "min        4.000000\n",
       "25%        9.000000\n",
       "50%       10.000000\n",
       "75%       12.000000\n",
       "max       14.000000\n",
       "Name: rating_numerator, dtype: float64"
      ]
     },
     "execution_count": 361,
     "metadata": {},
     "output_type": "execute_result"
    }
   ],
   "source": [
    "unsure_df = master_df[master_df.p1_conf < .25]\n",
    "unsure_df.rating_numerator.describe()"
   ]
  },
  {
   "cell_type": "markdown",
   "metadata": {},
   "source": [
    "## Insight\n",
    "- ### Image rating numerators became more spread out as the classifier's condidence level dropped."
   ]
  },
  {
   "cell_type": "code",
   "execution_count": 402,
   "metadata": {},
   "outputs": [
    {
     "data": {
      "text/plain": [
       "0    12\n",
       "dtype: int64"
      ]
     },
     "execution_count": 402,
     "metadata": {},
     "output_type": "execute_result"
    },
    {
     "data": {
      "image/png": "[encoded data removed]",
      "text/plain": [
       "<Figure size 432x288 with 1 Axes>"
      ]
     },
     "metadata": {
      "needs_background": "light"
     },
     "output_type": "display_data"
    }
   ],
   "source": [
    "confident_df.rating_numerator.plot(kind='hist')\n",
    "confident_df.rating_numerator.mode()"
   ]
  },
  {
   "cell_type": "code",
   "execution_count": 403,
   "metadata": {},
   "outputs": [
    {
     "data": {
      "text/plain": [
       "0    12\n",
       "dtype: int64"
      ]
     },
     "execution_count": 403,
     "metadata": {},
     "output_type": "execute_result"
    },
    {
     "data": {
      "image/png": "[encoded data removed]",
      "text/plain": [
       "<Figure size 432x288 with 1 Axes>"
      ]
     },
     "metadata": {
      "needs_background": "light"
     },
     "output_type": "display_data"
    }
   ],
   "source": [
    "avg_conf_df.rating_numerator.plot(kind='hist')\n",
    "avg_conf_df.rating_numerator.mode()"
   ]
  },
  {
   "cell_type": "code",
   "execution_count": 404,
   "metadata": {},
   "outputs": [
    {
     "data": {
      "text/plain": [
       "0    10\n",
       "dtype: int64"
      ]
     },
     "execution_count": 404,
     "metadata": {},
     "output_type": "execute_result"
    },
    {
     "data": {
      "image/png": "[encoded data removed]",
      "text/plain": [
       "<Figure size 432x288 with 1 Axes>"
      ]
     },
     "metadata": {
      "needs_background": "light"
     },
     "output_type": "display_data"
    }
   ],
   "source": [
    "unsure_df.rating_numerator.plot(kind='hist')\n",
    "unsure_df.rating_numerator.mode()"
   ]
  },
  {
   "cell_type": "markdown",
   "metadata": {},
   "source": [
    "## Insight\n",
    "- ### When comparing the rating numerator distributions for varying classifier confidence levels each plot was skewed to the left.\n",
    "- ### As we approach the lower confidence level bound the mode is pulled toward the mean."
   ]
  },
  {
   "cell_type": "code",
   "execution_count": 411,
   "metadata": {},
   "outputs": [
    {
     "data": {
      "text/plain": [
       "golden_retriever      130\n",
       "Labrador_retriever     89\n",
       "Pembroke               88\n",
       "Chihuahua              77\n",
       "pug                    53\n",
       "                     ... \n",
       "Egyptian_cat            1\n",
       "wooden_spoon            1\n",
       "leatherback_turtle      1\n",
       "standard_schnauzer      1\n",
       "dhole                   1\n",
       "Name: p1, Length: 355, dtype: int64"
      ]
     },
     "execution_count": 411,
     "metadata": {},
     "output_type": "execute_result"
    }
   ],
   "source": [
    "master_df.p1.value_counts()"
   ]
  },
  {
   "cell_type": "code",
   "execution_count": 430,
   "metadata": {},
   "outputs": [],
   "source": [
    "golden_df = master_df[master_df.p1 == 'golden_retriever']\n",
    "lab_df = master_df[master_df.p1 == 'Labrador_retriever']\n",
    "pembroke_df = master_df[master_df.p1 == 'Pembroke']"
   ]
  },
  {
   "cell_type": "code",
   "execution_count": 431,
   "metadata": {},
   "outputs": [
    {
     "data": {
      "text/html": [
       "<div>\n",
       "<style scoped>\n",
       "    .dataframe tbody tr th:only-of-type {\n",
       "        vertical-align: middle;\n",
       "    }\n",
       "\n",
       "    .dataframe tbody tr th {\n",
       "        vertical-align: top;\n",
       "    }\n",
       "\n",
       "    .dataframe thead th {\n",
       "        text-align: right;\n",
       "    }\n",
       "</style>\n",
       "<table border=\"1\" class=\"dataframe\">\n",
       "  <thead>\n",
       "    <tr style=\"text-align: right;\">\n",
       "      <th></th>\n",
       "      <th>rating_numerator</th>\n",
       "      <th>img_num</th>\n",
       "      <th>p1_conf</th>\n",
       "      <th>p1_dog</th>\n",
       "      <th>p2_conf</th>\n",
       "      <th>p2_dog</th>\n",
       "      <th>p3_conf</th>\n",
       "      <th>p3_dog</th>\n",
       "      <th>retweet_count</th>\n",
       "      <th>favorite_count</th>\n",
       "    </tr>\n",
       "  </thead>\n",
       "  <tbody>\n",
       "    <tr>\n",
       "      <th>count</th>\n",
       "      <td>130.000000</td>\n",
       "      <td>130.000000</td>\n",
       "      <td>130.000000</td>\n",
       "      <td>130.0</td>\n",
       "      <td>130.000000</td>\n",
       "      <td>130.000000</td>\n",
       "      <td>130.000000</td>\n",
       "      <td>130.000000</td>\n",
       "      <td>130.000000</td>\n",
       "      <td>130.000000</td>\n",
       "    </tr>\n",
       "    <tr>\n",
       "      <th>mean</th>\n",
       "      <td>11.553846</td>\n",
       "      <td>1.300000</td>\n",
       "      <td>0.726921</td>\n",
       "      <td>1.0</td>\n",
       "      <td>0.112243</td>\n",
       "      <td>0.984615</td>\n",
       "      <td>0.043762</td>\n",
       "      <td>0.861538</td>\n",
       "      <td>3122.915385</td>\n",
       "      <td>11188.569231</td>\n",
       "    </tr>\n",
       "    <tr>\n",
       "      <th>std</th>\n",
       "      <td>1.335627</td>\n",
       "      <td>0.630614</td>\n",
       "      <td>0.218625</td>\n",
       "      <td>0.0</td>\n",
       "      <td>0.097184</td>\n",
       "      <td>0.123553</td>\n",
       "      <td>0.045542</td>\n",
       "      <td>0.346720</td>\n",
       "      <td>3750.410938</td>\n",
       "      <td>11879.937716</td>\n",
       "    </tr>\n",
       "    <tr>\n",
       "      <th>min</th>\n",
       "      <td>5.000000</td>\n",
       "      <td>1.000000</td>\n",
       "      <td>0.140394</td>\n",
       "      <td>1.0</td>\n",
       "      <td>0.002228</td>\n",
       "      <td>0.000000</td>\n",
       "      <td>0.000453</td>\n",
       "      <td>0.000000</td>\n",
       "      <td>46.000000</td>\n",
       "      <td>175.000000</td>\n",
       "    </tr>\n",
       "    <tr>\n",
       "      <th>25%</th>\n",
       "      <td>11.000000</td>\n",
       "      <td>1.000000</td>\n",
       "      <td>0.608945</td>\n",
       "      <td>1.0</td>\n",
       "      <td>0.036696</td>\n",
       "      <td>1.000000</td>\n",
       "      <td>0.009154</td>\n",
       "      <td>1.000000</td>\n",
       "      <td>1064.500000</td>\n",
       "      <td>3252.500000</td>\n",
       "    </tr>\n",
       "    <tr>\n",
       "      <th>50%</th>\n",
       "      <td>12.000000</td>\n",
       "      <td>1.000000</td>\n",
       "      <td>0.776138</td>\n",
       "      <td>1.0</td>\n",
       "      <td>0.090681</td>\n",
       "      <td>1.000000</td>\n",
       "      <td>0.024669</td>\n",
       "      <td>1.000000</td>\n",
       "      <td>2003.500000</td>\n",
       "      <td>7370.000000</td>\n",
       "    </tr>\n",
       "    <tr>\n",
       "      <th>75%</th>\n",
       "      <td>12.000000</td>\n",
       "      <td>1.000000</td>\n",
       "      <td>0.902756</td>\n",
       "      <td>1.0</td>\n",
       "      <td>0.165288</td>\n",
       "      <td>1.000000</td>\n",
       "      <td>0.071391</td>\n",
       "      <td>1.000000</td>\n",
       "      <td>3800.750000</td>\n",
       "      <td>14961.750000</td>\n",
       "    </tr>\n",
       "    <tr>\n",
       "      <th>max</th>\n",
       "      <td>14.000000</td>\n",
       "      <td>4.000000</td>\n",
       "      <td>0.993830</td>\n",
       "      <td>1.0</td>\n",
       "      <td>0.454937</td>\n",
       "      <td>1.000000</td>\n",
       "      <td>0.203163</td>\n",
       "      <td>1.000000</td>\n",
       "      <td>24494.000000</td>\n",
       "      <td>78394.000000</td>\n",
       "    </tr>\n",
       "  </tbody>\n",
       "</table>\n",
       "</div>"
      ],
      "text/plain": [
       "       rating_numerator     img_num     p1_conf  p1_dog     p2_conf      p2_dog     p3_conf      p3_dog  retweet_count  favorite_count\n",
       "count        130.000000  130.000000  130.000000   130.0  130.000000  130.000000  130.000000  130.000000     130.000000      130.000000\n",
       "mean          11.553846    1.300000    0.726921     1.0    0.112243    0.984615    0.043762    0.861538    3122.915385    11188.569231\n",
       "std            1.335627    0.630614    0.218625     0.0    0.097184    0.123553    0.045542    0.346720    3750.410938    11879.937716\n",
       "min            5.000000    1.000000    0.140394     1.0    0.002228    0.000000    0.000453    0.000000      46.000000      175.000000\n",
       "25%           11.000000    1.000000    0.608945     1.0    0.036696    1.000000    0.009154    1.000000    1064.500000     3252.500000\n",
       "50%           12.000000    1.000000    0.776138     1.0    0.090681    1.000000    0.024669    1.000000    2003.500000     7370.000000\n",
       "75%           12.000000    1.000000    0.902756     1.0    0.165288    1.000000    0.071391    1.000000    3800.750000    14961.750000\n",
       "max           14.000000    4.000000    0.993830     1.0    0.454937    1.000000    0.203163    1.000000   24494.000000    78394.000000"
      ]
     },
     "execution_count": 431,
     "metadata": {},
     "output_type": "execute_result"
    }
   ],
   "source": [
    "golden_df.describe()"
   ]
  },
  {
   "cell_type": "code",
   "execution_count": 432,
   "metadata": {},
   "outputs": [
    {
     "data": {
      "text/html": [
       "<div>\n",
       "<style scoped>\n",
       "    .dataframe tbody tr th:only-of-type {\n",
       "        vertical-align: middle;\n",
       "    }\n",
       "\n",
       "    .dataframe tbody tr th {\n",
       "        vertical-align: top;\n",
       "    }\n",
       "\n",
       "    .dataframe thead th {\n",
       "        text-align: right;\n",
       "    }\n",
       "</style>\n",
       "<table border=\"1\" class=\"dataframe\">\n",
       "  <thead>\n",
       "    <tr style=\"text-align: right;\">\n",
       "      <th></th>\n",
       "      <th>rating_numerator</th>\n",
       "      <th>img_num</th>\n",
       "      <th>p1_conf</th>\n",
       "      <th>p1_dog</th>\n",
       "      <th>p2_conf</th>\n",
       "      <th>p2_dog</th>\n",
       "      <th>p3_conf</th>\n",
       "      <th>p3_dog</th>\n",
       "      <th>retweet_count</th>\n",
       "      <th>favorite_count</th>\n",
       "    </tr>\n",
       "  </thead>\n",
       "  <tbody>\n",
       "    <tr>\n",
       "      <th>count</th>\n",
       "      <td>89.000000</td>\n",
       "      <td>89.000000</td>\n",
       "      <td>89.000000</td>\n",
       "      <td>89.0</td>\n",
       "      <td>89.000000</td>\n",
       "      <td>89.000000</td>\n",
       "      <td>89.000000</td>\n",
       "      <td>89.000000</td>\n",
       "      <td>89.000000</td>\n",
       "      <td>89.000000</td>\n",
       "    </tr>\n",
       "    <tr>\n",
       "      <th>mean</th>\n",
       "      <td>11.089888</td>\n",
       "      <td>1.146067</td>\n",
       "      <td>0.645665</td>\n",
       "      <td>1.0</td>\n",
       "      <td>0.146121</td>\n",
       "      <td>0.898876</td>\n",
       "      <td>0.054789</td>\n",
       "      <td>0.853933</td>\n",
       "      <td>3439.876404</td>\n",
       "      <td>10918.415730</td>\n",
       "    </tr>\n",
       "    <tr>\n",
       "      <th>std</th>\n",
       "      <td>1.336893</td>\n",
       "      <td>0.465895</td>\n",
       "      <td>0.232856</td>\n",
       "      <td>0.0</td>\n",
       "      <td>0.103004</td>\n",
       "      <td>0.303200</td>\n",
       "      <td>0.050751</td>\n",
       "      <td>0.355175</td>\n",
       "      <td>8623.022090</td>\n",
       "      <td>18773.989988</td>\n",
       "    </tr>\n",
       "    <tr>\n",
       "      <th>min</th>\n",
       "      <td>7.000000</td>\n",
       "      <td>1.000000</td>\n",
       "      <td>0.195835</td>\n",
       "      <td>1.0</td>\n",
       "      <td>0.001688</td>\n",
       "      <td>0.000000</td>\n",
       "      <td>0.000694</td>\n",
       "      <td>0.000000</td>\n",
       "      <td>84.000000</td>\n",
       "      <td>284.000000</td>\n",
       "    </tr>\n",
       "    <tr>\n",
       "      <th>25%</th>\n",
       "      <td>10.000000</td>\n",
       "      <td>1.000000</td>\n",
       "      <td>0.458746</td>\n",
       "      <td>1.0</td>\n",
       "      <td>0.056639</td>\n",
       "      <td>1.000000</td>\n",
       "      <td>0.016497</td>\n",
       "      <td>1.000000</td>\n",
       "      <td>547.000000</td>\n",
       "      <td>2024.000000</td>\n",
       "    </tr>\n",
       "    <tr>\n",
       "      <th>50%</th>\n",
       "      <td>11.000000</td>\n",
       "      <td>1.000000</td>\n",
       "      <td>0.680251</td>\n",
       "      <td>1.0</td>\n",
       "      <td>0.137710</td>\n",
       "      <td>1.000000</td>\n",
       "      <td>0.036007</td>\n",
       "      <td>1.000000</td>\n",
       "      <td>1456.000000</td>\n",
       "      <td>5073.000000</td>\n",
       "    </tr>\n",
       "    <tr>\n",
       "      <th>75%</th>\n",
       "      <td>12.000000</td>\n",
       "      <td>1.000000</td>\n",
       "      <td>0.836052</td>\n",
       "      <td>1.0</td>\n",
       "      <td>0.201697</td>\n",
       "      <td>1.000000</td>\n",
       "      <td>0.077396</td>\n",
       "      <td>1.000000</td>\n",
       "      <td>3604.000000</td>\n",
       "      <td>14796.000000</td>\n",
       "    </tr>\n",
       "    <tr>\n",
       "      <th>max</th>\n",
       "      <td>13.000000</td>\n",
       "      <td>4.000000</td>\n",
       "      <td>0.996709</td>\n",
       "      <td>1.0</td>\n",
       "      <td>0.403420</td>\n",
       "      <td>1.000000</td>\n",
       "      <td>0.184246</td>\n",
       "      <td>1.000000</td>\n",
       "      <td>77589.000000</td>\n",
       "      <td>155716.000000</td>\n",
       "    </tr>\n",
       "  </tbody>\n",
       "</table>\n",
       "</div>"
      ],
      "text/plain": [
       "       rating_numerator    img_num    p1_conf  p1_dog    p2_conf     p2_dog    p3_conf     p3_dog  retweet_count  favorite_count\n",
       "count         89.000000  89.000000  89.000000    89.0  89.000000  89.000000  89.000000  89.000000      89.000000       89.000000\n",
       "mean          11.089888   1.146067   0.645665     1.0   0.146121   0.898876   0.054789   0.853933    3439.876404    10918.415730\n",
       "std            1.336893   0.465895   0.232856     0.0   0.103004   0.303200   0.050751   0.355175    8623.022090    18773.989988\n",
       "min            7.000000   1.000000   0.195835     1.0   0.001688   0.000000   0.000694   0.000000      84.000000      284.000000\n",
       "25%           10.000000   1.000000   0.458746     1.0   0.056639   1.000000   0.016497   1.000000     547.000000     2024.000000\n",
       "50%           11.000000   1.000000   0.680251     1.0   0.137710   1.000000   0.036007   1.000000    1456.000000     5073.000000\n",
       "75%           12.000000   1.000000   0.836052     1.0   0.201697   1.000000   0.077396   1.000000    3604.000000    14796.000000\n",
       "max           13.000000   4.000000   0.996709     1.0   0.403420   1.000000   0.184246   1.000000   77589.000000   155716.000000"
      ]
     },
     "execution_count": 432,
     "metadata": {},
     "output_type": "execute_result"
    }
   ],
   "source": [
    "lab_df.describe()"
   ]
  },
  {
   "cell_type": "code",
   "execution_count": 433,
   "metadata": {},
   "outputs": [
    {
     "data": {
      "text/html": [
       "<div>\n",
       "<style scoped>\n",
       "    .dataframe tbody tr th:only-of-type {\n",
       "        vertical-align: middle;\n",
       "    }\n",
       "\n",
       "    .dataframe tbody tr th {\n",
       "        vertical-align: top;\n",
       "    }\n",
       "\n",
       "    .dataframe thead th {\n",
       "        text-align: right;\n",
       "    }\n",
       "</style>\n",
       "<table border=\"1\" class=\"dataframe\">\n",
       "  <thead>\n",
       "    <tr style=\"text-align: right;\">\n",
       "      <th></th>\n",
       "      <th>rating_numerator</th>\n",
       "      <th>img_num</th>\n",
       "      <th>p1_conf</th>\n",
       "      <th>p1_dog</th>\n",
       "      <th>p2_conf</th>\n",
       "      <th>p2_dog</th>\n",
       "      <th>p3_conf</th>\n",
       "      <th>p3_dog</th>\n",
       "      <th>retweet_count</th>\n",
       "      <th>favorite_count</th>\n",
       "    </tr>\n",
       "  </thead>\n",
       "  <tbody>\n",
       "    <tr>\n",
       "      <th>count</th>\n",
       "      <td>88.000000</td>\n",
       "      <td>88.000000</td>\n",
       "      <td>88.000000</td>\n",
       "      <td>88.0</td>\n",
       "      <td>88.000000</td>\n",
       "      <td>88.000000</td>\n",
       "      <td>88.000000</td>\n",
       "      <td>88.000000</td>\n",
       "      <td>88.000000</td>\n",
       "      <td>88.000000</td>\n",
       "    </tr>\n",
       "    <tr>\n",
       "      <th>mean</th>\n",
       "      <td>11.443182</td>\n",
       "      <td>1.261364</td>\n",
       "      <td>0.717223</td>\n",
       "      <td>1.0</td>\n",
       "      <td>0.139614</td>\n",
       "      <td>0.931818</td>\n",
       "      <td>0.041300</td>\n",
       "      <td>0.931818</td>\n",
       "      <td>2817.238636</td>\n",
       "      <td>10531.806818</td>\n",
       "    </tr>\n",
       "    <tr>\n",
       "      <th>std</th>\n",
       "      <td>1.721119</td>\n",
       "      <td>0.702938</td>\n",
       "      <td>0.227037</td>\n",
       "      <td>0.0</td>\n",
       "      <td>0.112828</td>\n",
       "      <td>0.253502</td>\n",
       "      <td>0.049234</td>\n",
       "      <td>0.253502</td>\n",
       "      <td>2814.300877</td>\n",
       "      <td>11446.650904</td>\n",
       "    </tr>\n",
       "    <tr>\n",
       "      <th>min</th>\n",
       "      <td>4.000000</td>\n",
       "      <td>1.000000</td>\n",
       "      <td>0.134081</td>\n",
       "      <td>1.0</td>\n",
       "      <td>0.003216</td>\n",
       "      <td>0.000000</td>\n",
       "      <td>0.000023</td>\n",
       "      <td>0.000000</td>\n",
       "      <td>77.000000</td>\n",
       "      <td>156.000000</td>\n",
       "    </tr>\n",
       "    <tr>\n",
       "      <th>25%</th>\n",
       "      <td>11.000000</td>\n",
       "      <td>1.000000</td>\n",
       "      <td>0.541385</td>\n",
       "      <td>1.0</td>\n",
       "      <td>0.033184</td>\n",
       "      <td>1.000000</td>\n",
       "      <td>0.003414</td>\n",
       "      <td>1.000000</td>\n",
       "      <td>940.250000</td>\n",
       "      <td>2912.750000</td>\n",
       "    </tr>\n",
       "    <tr>\n",
       "      <th>50%</th>\n",
       "      <td>12.000000</td>\n",
       "      <td>1.000000</td>\n",
       "      <td>0.767625</td>\n",
       "      <td>1.0</td>\n",
       "      <td>0.111828</td>\n",
       "      <td>1.000000</td>\n",
       "      <td>0.021313</td>\n",
       "      <td>1.000000</td>\n",
       "      <td>1749.000000</td>\n",
       "      <td>5937.000000</td>\n",
       "    </tr>\n",
       "    <tr>\n",
       "      <th>75%</th>\n",
       "      <td>12.000000</td>\n",
       "      <td>1.000000</td>\n",
       "      <td>0.932723</td>\n",
       "      <td>1.0</td>\n",
       "      <td>0.227522</td>\n",
       "      <td>1.000000</td>\n",
       "      <td>0.062449</td>\n",
       "      <td>1.000000</td>\n",
       "      <td>3696.750000</td>\n",
       "      <td>14026.750000</td>\n",
       "    </tr>\n",
       "    <tr>\n",
       "      <th>max</th>\n",
       "      <td>14.000000</td>\n",
       "      <td>4.000000</td>\n",
       "      <td>0.993449</td>\n",
       "      <td>1.0</td>\n",
       "      <td>0.451038</td>\n",
       "      <td>1.000000</td>\n",
       "      <td>0.241878</td>\n",
       "      <td>1.000000</td>\n",
       "      <td>16359.000000</td>\n",
       "      <td>64294.000000</td>\n",
       "    </tr>\n",
       "  </tbody>\n",
       "</table>\n",
       "</div>"
      ],
      "text/plain": [
       "       rating_numerator    img_num    p1_conf  p1_dog    p2_conf     p2_dog    p3_conf     p3_dog  retweet_count  favorite_count\n",
       "count         88.000000  88.000000  88.000000    88.0  88.000000  88.000000  88.000000  88.000000      88.000000       88.000000\n",
       "mean          11.443182   1.261364   0.717223     1.0   0.139614   0.931818   0.041300   0.931818    2817.238636    10531.806818\n",
       "std            1.721119   0.702938   0.227037     0.0   0.112828   0.253502   0.049234   0.253502    2814.300877    11446.650904\n",
       "min            4.000000   1.000000   0.134081     1.0   0.003216   0.000000   0.000023   0.000000      77.000000      156.000000\n",
       "25%           11.000000   1.000000   0.541385     1.0   0.033184   1.000000   0.003414   1.000000     940.250000     2912.750000\n",
       "50%           12.000000   1.000000   0.767625     1.0   0.111828   1.000000   0.021313   1.000000    1749.000000     5937.000000\n",
       "75%           12.000000   1.000000   0.932723     1.0   0.227522   1.000000   0.062449   1.000000    3696.750000    14026.750000\n",
       "max           14.000000   4.000000   0.993449     1.0   0.451038   1.000000   0.241878   1.000000   16359.000000    64294.000000"
      ]
     },
     "execution_count": 433,
     "metadata": {},
     "output_type": "execute_result"
    }
   ],
   "source": [
    "pembroke_df.describe()"
   ]
  },
  {
   "cell_type": "code",
   "execution_count": 408,
   "metadata": {},
   "outputs": [
    {
     "data": {
      "text/plain": [
       "count     1903.000000\n",
       "mean      2474.496059\n",
       "std       4433.184301\n",
       "min         11.000000\n",
       "25%        551.000000\n",
       "50%       1192.000000\n",
       "75%       2834.000000\n",
       "max      77589.000000\n",
       "Name: retweet_count, dtype: float64"
      ]
     },
     "execution_count": 408,
     "metadata": {},
     "output_type": "execute_result"
    }
   ],
   "source": [
    "master_df.retweet_count.describe()"
   ]
  },
  {
   "cell_type": "code",
   "execution_count": 438,
   "metadata": {},
   "outputs": [],
   "source": [
    "pop_dog_list = master_df.p1.value_counts().index.tolist()[:5]\n",
    "avg_retweet_count = []\n",
    "avg_fav_count = []\n",
    "for i in range(len(pop_dog_list)):\n",
    "    df = master_df[master_df.p1 == pop_dog_list[i]]\n",
    "    avg_retweet_count.append(df.retweet_count.mean())\n",
    "    avg_fav_count.append(df.favorite_count.mean())"
   ]
  },
  {
   "cell_type": "code",
   "execution_count": 439,
   "metadata": {},
   "outputs": [
    {
     "data": {
      "text/plain": [
       "[11188.569230769232,\n",
       " 10918.41573033708,\n",
       " 10531.806818181818,\n",
       " 8277.532467532468,\n",
       " 5477.433962264151]"
      ]
     },
     "execution_count": 439,
     "metadata": {},
     "output_type": "execute_result"
    }
   ],
   "source": [
    "avg_fav_count"
   ]
  },
  {
   "cell_type": "code",
   "execution_count": 440,
   "metadata": {},
   "outputs": [
    {
     "data": {
      "image/png": "[encoded data removed]",
      "text/plain": [
       "<Figure size 720x720 with 1 Axes>"
      ]
     },
     "metadata": {
      "needs_background": "light"
     },
     "output_type": "display_data"
    }
   ],
   "source": [
    "import matplotlib.pyplot as plt\n",
    "\n",
    "fig, ax = plt.subplots(figsize=(10,10))\n",
    "index = np.arange(len(pop_dog_list))\n",
    "width = .1\n",
    "\n",
    "retweets = plt.bar(index, avg_retweet_count, width, color='r', label='Retweet Count')\n",
    "favs = plt.bar(index+width, avg_fav_count, width, color='b', label='Favorite Count')\n",
    "plt.xlabel('Dogs')\n",
    "plt.ylabel('Counts')\n",
    "plt.title('Dog VS Attention')\n",
    "plt.xticks(index + width, pop_dog_list)\n",
    "plt.legend()\n",
    "plt.tight_layout()\n",
    "plt.show()"
   ]
  },
  {
   "cell_type": "markdown",
   "metadata": {},
   "source": [
    "## Insight\n",
    "- ### Images containing dogs that were predicted to be labrador retrievers were more likely to be favorited than images containing dogs that were predicted to be golden retrievers."
   ]
  }
 ],
 "metadata": {
  "kernelspec": {
   "display_name": "Python 3",
   "language": "python",
   "name": "python3"
  },
  "language_info": {
   "codemirror_mode": {
    "name": "ipython",
    "version": 3
   },
   "file_extension": ".py",
   "mimetype": "text/x-python",
   "name": "python",
   "nbconvert_exporter": "python",
   "pygments_lexer": "ipython3",
   "version": "3.7.6"
  }
 },
 "nbformat": 4,
 "nbformat_minor": 4
}
